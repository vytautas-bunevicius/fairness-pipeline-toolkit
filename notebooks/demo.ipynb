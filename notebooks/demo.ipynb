{
 "cells": [
  {
   "cell_type": "markdown",
   "id": "38848ccc1555f376",
   "metadata": {},
   "source": [
    "## The Organizational Challenge\n",
    "\n",
    "### \"Great Modules, But...\"\n",
    "\n",
    "> *\"We have great modules. Each solved a specific problem, yet a new, higher-level challenge emerged during deployment. We need a unified blueprint, an orchestration layer that guarantees standardization when implementing these tools. You won't be there to advise every team at every step.\"*\n",
    ">\n",
    "> — Data Science Lead\n",
    "\n",
    "### The Integration Problem\n",
    "\n",
    "**Individual modules sitting in isolation create chaos at scale:**\n",
    "\n",
    "| **Before: Point Solutions**    | **After: Integrated System** |\n",
    "|--------------------------------|------------------------------|\n",
    "| ❌ Manual coordination required | ✅ Automated orchestration    |\n",
    "| ❌ Inconsistent implementations | ✅ Standardized workflows     |\n",
    "| ❌ No audit trail               | ✅ Full experiment tracking   |\n",
    "| ❌ Configuration scattered      | ✅ Single config file         |\n",
    "| ❌ Hard to reproduce            | ✅ Declarative & reproducible |\n",
    "\n",
    "### Our Three-Module Integration\n",
    "\n",
    "1. **Measurement Module** — Bias detection and fairness auditing\n",
    "2. **Pipeline Module** — Data debiasing and preprocessing\n",
    "3. **Training Module** — Fair model development\n",
    "\n",
    "**The missing piece:** A configuration system and orchestrator that makes fairness **systematic, reproducible, and scalable** across your organization.\n"
   ]
  },
  {
   "cell_type": "markdown",
   "id": "d56ca6be2681a055",
   "metadata": {},
   "source": [
    "## The Integrated System Solution\n",
    "\n",
    "### From Components to Cohesive Pipeline\n",
    "\n",
    "#### 1) Central Configuration (`config.yml`)\n",
    "- Single source of truth; declarative and version-controlled\n",
    "\n",
    "#### 2) Pipeline Orchestrator (`run_pipeline.py`)\n",
    "- Coordinates measurement → preprocessing → fair training with validation\n",
    "\n",
    "#### 3) MLOps Integration (MLflow)\n",
    "- Experiment tracking, model registry, and artifact management\n"
   ]
  },
  {
   "cell_type": "markdown",
   "id": "82f24e171302a367",
   "metadata": {},
   "source": [
    "## Architecture Walkthrough\n",
    "\n",
    "**Data Flow**\n",
    "- **Input:** `config.yml`, CSV datasets\n",
    "- **Orchestration:** `PipelineExecutor` parses config and manages execution\n",
    "- **Processing:** Baseline measurement → debiasing + fair training → final validation\n",
    "- **Integration:** MLflow tracking, structured logging, artifacts\n",
    "- **Output:** Trained fair model, report card, reproducible experiment\n"
   ]
  },
  {
   "cell_type": "code",
   "id": "90781af41375a18e",
   "metadata": {
    "ExecuteTime": {
     "end_time": "2025-08-19T11:53:24.581546Z",
     "start_time": "2025-08-19T11:53:22.811247Z"
    }
   },
   "source": [
    "import os\n",
    "import yaml\n",
    "import logging\n",
    "import warnings\n",
    "from pathlib import Path\n",
    "from datetime import datetime\n",
    "from pathlib import Path as _Path\n",
    "import plotly.io as pio\n",
    "import subprocess\n",
    "\n",
    "\n",
    "import pandas as pd\n",
    "import mlflow\n",
    "from mlflow.tracking import MlflowClient\n",
    "from IPython.display import Markdown, display, Image\n",
    "\n",
    "from fairness_pipeline_toolkit.pipeline_executor import PipelineExecutor\n",
    "from fairness_pipeline_toolkit.config import ConfigParser\n",
    "from fairness_pipeline_toolkit.config.config_parser import VisualizationConfig\n",
    "from fairness_pipeline_toolkit.visualization import (\n",
    "    plot_success_rates_by_groups,\n",
    "    plot_combined_success_rates,\n",
    "    plot_fairness_comparison,\n",
    "    plot_performance_comparison,\n",
    ")"
   ],
   "outputs": [],
   "execution_count": 1
  },
  {
   "cell_type": "code",
   "id": "407f41659d754c76",
   "metadata": {
    "ExecuteTime": {
     "end_time": "2025-08-19T11:53:24.588647Z",
     "start_time": "2025-08-19T11:53:24.587186Z"
    }
   },
   "source": [
    "def md(text: str) -> None:\n",
    "    display(Markdown(text))"
   ],
   "outputs": [],
   "execution_count": 2
  },
  {
   "cell_type": "code",
   "id": "96c36e8f27786165",
   "metadata": {
    "ExecuteTime": {
     "end_time": "2025-08-19T11:53:25.194494Z",
     "start_time": "2025-08-19T11:53:24.594209Z"
    }
   },
   "source": [
    "warnings.filterwarnings(\"ignore\")\n",
    "pd.set_option(\"display.max_columns\", None)\n",
    "pd.set_option(\"display.precision\", 4)\n",
    "if pio is not None:\n",
    "    pio.renderers.default = \"notebook\"\n",
    "for name in [\n",
    "    \"fairness_pipeline\",\n",
    "    \"fairness_pipeline.executor\",\n",
    "    \"fairness_pipeline.bias_detector\",\n",
    "    \"mlflow\",\n",
    "]:\n",
    "    logging.getLogger(name).setLevel(logging.ERROR)\n",
    "md(\"✅ **Environment ready.**\")"
   ],
   "outputs": [
    {
     "data": {
      "text/plain": [
       "<IPython.core.display.Markdown object>"
      ],
      "text/markdown": "✅ **Environment ready.**"
     },
     "metadata": {},
     "output_type": "display_data"
    }
   ],
   "execution_count": 3
  },
  {
   "cell_type": "markdown",
   "id": "b5550d919bafe20c",
   "metadata": {},
   "source": [
    "## 1) Load the Declarative Configuration (`config.yml`)\n",
    "\n",
    "The configuration defines the transformer, training method, and the primary fairness metric with its threshold.\n"
   ]
  },
  {
   "cell_type": "code",
   "id": "9072f6b3ef844054",
   "metadata": {
    "ExecuteTime": {
     "end_time": "2025-08-19T11:53:25.214757Z",
     "start_time": "2025-08-19T11:53:25.207228Z"
    }
   },
   "source": [
    "config_path = Path(\"../config.yml\")\n",
    "assert config_path.exists(), \"config.yml not found (expected at ../config.yml).\"\n",
    "config = ConfigParser.load(str(config_path))\n",
    "config_preview = yaml.safe_dump(config, sort_keys=False, width=88)\n",
    "md(\"**Active configuration:**\")\n",
    "md(f\"```yaml\\n{config_preview}\\n```\")"
   ],
   "outputs": [
    {
     "data": {
      "text/plain": [
       "<IPython.core.display.Markdown object>"
      ],
      "text/markdown": "**Active configuration:**"
     },
     "metadata": {},
     "output_type": "display_data"
    },
    {
     "data": {
      "text/plain": [
       "<IPython.core.display.Markdown object>"
      ],
      "text/markdown": "```yaml\ndata:\n  input_path: demo_data.csv\n  target_column: target\n  sensitive_features:\n  - race\n  - sex\n  test_size: 0.2\n  val_size: 0.2\n  random_state: 42\npreprocessing:\n  transformer:\n    name: BiasMitigationTransformer\n    parameters:\n      repair_level: 0.8\n      random_state: 42\ntraining:\n  method:\n    name: FairnessConstrainedClassifier\n    parameters:\n      base_estimator: LogisticRegression\n      constraint: demographic_parity\n      random_state: 42\nevaluation:\n  primary_metric: demographic_parity_difference\n  fairness_threshold: 0.1\nmlflow:\n  experiment_name: fairness_pipeline\n  run_name: null\n  log_model: true\n  log_config: true\n  tags:\n    framework: fairness_pipeline_toolkit\n    version: 1.0.0\n\n```"
     },
     "metadata": {},
     "output_type": "display_data"
    }
   ],
   "execution_count": 4
  },
  {
   "cell_type": "markdown",
   "id": "38e959311abf6886",
   "metadata": {},
   "source": [
    "## 2) Data: Load or Generate\n",
    "\n",
    "The orchestrator loads your dataset per the config, or generates a synthetic dataset for a self-contained demo.\n"
   ]
  },
  {
   "cell_type": "markdown",
   "id": "37b2e168ea5f1613",
   "metadata": {},
   "source": "<llm-snippet-file>/Users/vytautasbunevicius/fairness-pipeline-toolkit/notebooks/demo.ipynb</llm-snippet-file>\n"
  },
  {
   "cell_type": "code",
   "id": "3c1a33e846508b79",
   "metadata": {
    "ExecuteTime": {
     "end_time": "2025-08-19T11:53:25.327035Z",
     "start_time": "2025-08-19T11:53:25.225194Z"
    }
   },
   "source": [
    "executor = PipelineExecutor(config, verbose=False, enable_logging=False)\n",
    "\n",
    "load_fn = getattr(executor, \"_load_data_if_available\", None)\n",
    "df = None\n",
    "if callable(load_fn):\n",
    "    try:\n",
    "        df = load_fn()\n",
    "    except (\n",
    "        FileNotFoundError,\n",
    "        IsADirectoryError,\n",
    "        PermissionError,\n",
    "        pd.errors.EmptyDataError,\n",
    "        pd.errors.ParserError,\n",
    "        ValueError,\n",
    "    ) as e:\n",
    "        logging.getLogger(\"fairness_pipeline.executor\").warning(\n",
    "            \"Data load failed: %s\", e\n",
    "        )\n",
    "\n",
    "if df is None:\n",
    "    generate_fn = getattr(executor, \"_generate_synthetic_data\", None)\n",
    "    if callable(generate_fn):\n",
    "        df = generate_fn(n_samples=1000)\n",
    "    else:\n",
    "        raise RuntimeError(\"Unable to generate synthetic data\")\n",
    "\n",
    "row_count, col_count = df.shape\n",
    "md(f\"**Dataset ready:** {row_count} rows × {col_count} columns\")\n",
    "display(df)"
   ],
   "outputs": [
    {
     "data": {
      "text/plain": [
       "<IPython.core.display.Markdown object>"
      ],
      "text/markdown": "**Dataset ready:** 1000 rows × 6 columns"
     },
     "metadata": {},
     "output_type": "display_data"
    },
    {
     "data": {
      "text/plain": [
       "         age      income  education_years      race     sex  target\n",
       "0    40.9606  51616.9251           9.2993  Hispanic  Female       0\n",
       "1    33.3408  58382.9438          11.4219     Asian    Male       0\n",
       "2    42.7723  24950.9041           8.8303     White  Female       0\n",
       "3    53.2764  13586.7727          10.7682     Asian  Female       0\n",
       "4    32.1902  50828.3926           6.0000     White    Male       0\n",
       "..       ...         ...              ...       ...     ...     ...\n",
       "995  31.6268  37332.3725          12.3099     Black  Female       0\n",
       "996  56.5722  23289.1772          13.0310     White  Female       1\n",
       "997  42.6901   9572.6649           7.0330     Black    Male       0\n",
       "998  42.6901   9572.6649          13.3367     White    Male       1\n",
       "999  41.8710  16021.8648          11.3790     White    Male       0\n",
       "\n",
       "[1000 rows x 6 columns]"
      ],
      "text/html": [
       "<div>\n",
       "<style scoped>\n",
       "    .dataframe tbody tr th:only-of-type {\n",
       "        vertical-align: middle;\n",
       "    }\n",
       "\n",
       "    .dataframe tbody tr th {\n",
       "        vertical-align: top;\n",
       "    }\n",
       "\n",
       "    .dataframe thead th {\n",
       "        text-align: right;\n",
       "    }\n",
       "</style>\n",
       "<table border=\"1\" class=\"dataframe\">\n",
       "  <thead>\n",
       "    <tr style=\"text-align: right;\">\n",
       "      <th></th>\n",
       "      <th>age</th>\n",
       "      <th>income</th>\n",
       "      <th>education_years</th>\n",
       "      <th>race</th>\n",
       "      <th>sex</th>\n",
       "      <th>target</th>\n",
       "    </tr>\n",
       "  </thead>\n",
       "  <tbody>\n",
       "    <tr>\n",
       "      <th>0</th>\n",
       "      <td>40.9606</td>\n",
       "      <td>51616.9251</td>\n",
       "      <td>9.2993</td>\n",
       "      <td>Hispanic</td>\n",
       "      <td>Female</td>\n",
       "      <td>0</td>\n",
       "    </tr>\n",
       "    <tr>\n",
       "      <th>1</th>\n",
       "      <td>33.3408</td>\n",
       "      <td>58382.9438</td>\n",
       "      <td>11.4219</td>\n",
       "      <td>Asian</td>\n",
       "      <td>Male</td>\n",
       "      <td>0</td>\n",
       "    </tr>\n",
       "    <tr>\n",
       "      <th>2</th>\n",
       "      <td>42.7723</td>\n",
       "      <td>24950.9041</td>\n",
       "      <td>8.8303</td>\n",
       "      <td>White</td>\n",
       "      <td>Female</td>\n",
       "      <td>0</td>\n",
       "    </tr>\n",
       "    <tr>\n",
       "      <th>3</th>\n",
       "      <td>53.2764</td>\n",
       "      <td>13586.7727</td>\n",
       "      <td>10.7682</td>\n",
       "      <td>Asian</td>\n",
       "      <td>Female</td>\n",
       "      <td>0</td>\n",
       "    </tr>\n",
       "    <tr>\n",
       "      <th>4</th>\n",
       "      <td>32.1902</td>\n",
       "      <td>50828.3926</td>\n",
       "      <td>6.0000</td>\n",
       "      <td>White</td>\n",
       "      <td>Male</td>\n",
       "      <td>0</td>\n",
       "    </tr>\n",
       "    <tr>\n",
       "      <th>...</th>\n",
       "      <td>...</td>\n",
       "      <td>...</td>\n",
       "      <td>...</td>\n",
       "      <td>...</td>\n",
       "      <td>...</td>\n",
       "      <td>...</td>\n",
       "    </tr>\n",
       "    <tr>\n",
       "      <th>995</th>\n",
       "      <td>31.6268</td>\n",
       "      <td>37332.3725</td>\n",
       "      <td>12.3099</td>\n",
       "      <td>Black</td>\n",
       "      <td>Female</td>\n",
       "      <td>0</td>\n",
       "    </tr>\n",
       "    <tr>\n",
       "      <th>996</th>\n",
       "      <td>56.5722</td>\n",
       "      <td>23289.1772</td>\n",
       "      <td>13.0310</td>\n",
       "      <td>White</td>\n",
       "      <td>Female</td>\n",
       "      <td>1</td>\n",
       "    </tr>\n",
       "    <tr>\n",
       "      <th>997</th>\n",
       "      <td>42.6901</td>\n",
       "      <td>9572.6649</td>\n",
       "      <td>7.0330</td>\n",
       "      <td>Black</td>\n",
       "      <td>Male</td>\n",
       "      <td>0</td>\n",
       "    </tr>\n",
       "    <tr>\n",
       "      <th>998</th>\n",
       "      <td>42.6901</td>\n",
       "      <td>9572.6649</td>\n",
       "      <td>13.3367</td>\n",
       "      <td>White</td>\n",
       "      <td>Male</td>\n",
       "      <td>1</td>\n",
       "    </tr>\n",
       "    <tr>\n",
       "      <th>999</th>\n",
       "      <td>41.8710</td>\n",
       "      <td>16021.8648</td>\n",
       "      <td>11.3790</td>\n",
       "      <td>White</td>\n",
       "      <td>Male</td>\n",
       "      <td>0</td>\n",
       "    </tr>\n",
       "  </tbody>\n",
       "</table>\n",
       "<p>1000 rows × 6 columns</p>\n",
       "</div>"
      ]
     },
     "metadata": {},
     "output_type": "display_data"
    }
   ],
   "execution_count": 5
  },
  {
   "cell_type": "markdown",
   "id": "8d25f9393e6f492d",
   "metadata": {},
   "source": [
    "## 3) Baseline Bias Exploration\n",
    "\n",
    "Group success rates help visualize potential disparities across sensitive features.\n"
   ]
  },
  {
   "cell_type": "code",
   "id": "e4611b2929d9b70f",
   "metadata": {
    "ExecuteTime": {
     "end_time": "2025-08-19T11:53:30.215367Z",
     "start_time": "2025-08-19T11:53:25.333828Z"
    }
   },
   "source": [
    "viz_config = VisualizationConfig.from_pyproject()\n",
    "sensitive_features = config[\"data\"][\"sensitive_features\"]\n",
    "md(f\"**Visualization theme:** `{viz_config.theme}`\")\n",
    "\n",
    "individual_fig = plot_success_rates_by_groups(\n",
    "    data=df,\n",
    "    viz_config=viz_config,\n",
    "    target_column=config[\"data\"][\"target_column\"],\n",
    "    sensitive_features=sensitive_features,\n",
    "    title=\"Bias Detection: Success Rates Across Demographic Groups\",\n",
    ")\n",
    "combined_fig = plot_combined_success_rates(\n",
    "    data=df,\n",
    "    viz_config=viz_config,\n",
    "    target_column=config[\"data\"][\"target_column\"],\n",
    "    sensitive_features=sensitive_features,\n",
    "    title=\"Combined Demographics: Intersection of Groups\",\n",
    ")\n",
    "\n",
    "race_success = (\n",
    "    df.groupby(sensitive_features[0])[config[\"data\"][\"target_column\"]]\n",
    "    .mean()\n",
    "    .sort_values(ascending=False)\n",
    ")\n",
    "sex_success = (\n",
    "    df.groupby(sensitive_features[1])[config[\"data\"][\"target_column\"]]\n",
    "    .mean()\n",
    "    .sort_values(ascending=False)\n",
    ")\n",
    "overall_rate = df[config[\"data\"][\"target_column\"]].mean()\n",
    "race_gap = race_success.max() - race_success.min()\n",
    "sex_gap = abs(sex_success.iloc[0] - sex_success.iloc[1])\n",
    "combo = df.groupby(sensitive_features)[config[\"data\"][\"target_column\"]].mean()\n",
    "gap_combo = combo.max() - combo.min()\n",
    "\n",
    "md(\n",
    "    f\"\"\"\n",
    "**Baseline group rates**\n",
    "\n",
    "- Overall rate: **{overall_rate:.2f}**\n",
    "- {sensitive_features[0]} gap: **{race_gap:.2f}**\n",
    "- {sensitive_features[1]} gap: **{sex_gap:.2f}**\n",
    "- Max intersectional gap: **{gap_combo:.2f}**  \n",
    "Fairness threshold target: **≤ {config[\"evaluation\"][\"fairness_threshold\"]}**\n",
    "\"\"\"\n",
    ")"
   ],
   "outputs": [
    {
     "data": {
      "text/plain": [
       "<IPython.core.display.Markdown object>"
      ],
      "text/markdown": "**Visualization theme:** `default`"
     },
     "metadata": {},
     "output_type": "display_data"
    },
    {
     "data": {
      "text/plain": [
       "<IPython.core.display.Markdown object>"
      ],
      "text/markdown": "\n**Baseline group rates**\n\n- Overall rate: **0.11**\n- race gap: **0.07**\n- sex gap: **0.03**\n- Max intersectional gap: **0.17**  \nFairness threshold target: **≤ 0.1**\n"
     },
     "metadata": {},
     "output_type": "display_data"
    }
   ],
   "execution_count": 6
  },
  {
   "cell_type": "markdown",
   "id": "f541d92138053b86",
   "metadata": {},
   "source": [
    "## 4) Orchestrated Pipeline Run\n",
    "\n",
    "Executes the three-step workflow: baseline measurement → debiasing + fair training → final validation.\n"
   ]
  },
  {
   "cell_type": "code",
   "id": "5b7952d3bf3287f6",
   "metadata": {
    "ExecuteTime": {
     "end_time": "2025-08-19T11:53:33.830755Z",
     "start_time": "2025-08-19T11:53:30.465822Z"
    }
   },
   "source": [
    "executor = PipelineExecutor(config, verbose=False, enable_logging=False)\n",
    "results = executor.execute_pipeline()"
   ],
   "outputs": [
    {
     "data": {
      "text/plain": [
       "\n",
       "\u001B[1;34mFINAL TEST SET REPORT\u001B[0m\n"
      ],
      "text/html": [
       "<pre style=\"white-space:pre;overflow-x:auto;line-height:normal;font-family:Menlo,'DejaVu Sans Mono',consolas,'Courier New',monospace\">\n",
       "<span style=\"color: #000080; text-decoration-color: #000080; font-weight: bold\">FINAL TEST SET REPORT</span>\n",
       "</pre>\n"
      ]
     },
     "metadata": {},
     "output_type": "display_data"
    },
    {
     "data": {
      "text/plain": [
       "\u001B[3m     Performance Metrics      \u001B[0m\n",
       "                              \n",
       " \u001B[1;34m \u001B[0m\u001B[1;34mMetric         \u001B[0m\u001B[1;34m \u001B[0m \u001B[1;34m \u001B[0m\u001B[1;34m   Value\u001B[0m\u001B[1;34m \u001B[0m \n",
       " ──────────────────────────── \n",
       " \u001B[36m \u001B[0m\u001B[36mAccuracy       \u001B[0m\u001B[36m \u001B[0m \u001B[32m \u001B[0m\u001B[32m  0.8600\u001B[0m\u001B[32m \u001B[0m \n",
       " \u001B[36m \u001B[0m\u001B[36mPrecision      \u001B[0m\u001B[36m \u001B[0m \u001B[32m \u001B[0m\u001B[32m  0.8705\u001B[0m\u001B[32m \u001B[0m \n",
       " \u001B[36m \u001B[0m\u001B[36mRecall         \u001B[0m\u001B[36m \u001B[0m \u001B[32m \u001B[0m\u001B[32m  0.8600\u001B[0m\u001B[32m \u001B[0m \n",
       " \u001B[36m \u001B[0m\u001B[36mF1_Score       \u001B[0m\u001B[36m \u001B[0m \u001B[32m \u001B[0m\u001B[32m  0.8648\u001B[0m\u001B[32m \u001B[0m \n",
       "                              \n"
      ],
      "text/html": [
       "<pre style=\"white-space:pre;overflow-x:auto;line-height:normal;font-family:Menlo,'DejaVu Sans Mono',consolas,'Courier New',monospace\"><span style=\"font-style: italic\">     Performance Metrics      </span>\n",
       "                              \n",
       " <span style=\"color: #000080; text-decoration-color: #000080; font-weight: bold\"> Metric          </span> <span style=\"color: #000080; text-decoration-color: #000080; font-weight: bold\">    Value </span> \n",
       " ──────────────────────────── \n",
       " <span style=\"color: #008080; text-decoration-color: #008080\"> Accuracy        </span> <span style=\"color: #008000; text-decoration-color: #008000\">   0.8600 </span> \n",
       " <span style=\"color: #008080; text-decoration-color: #008080\"> Precision       </span> <span style=\"color: #008000; text-decoration-color: #008000\">   0.8705 </span> \n",
       " <span style=\"color: #008080; text-decoration-color: #008080\"> Recall          </span> <span style=\"color: #008000; text-decoration-color: #008000\">   0.8600 </span> \n",
       " <span style=\"color: #008080; text-decoration-color: #008080\"> F1_Score        </span> <span style=\"color: #008000; text-decoration-color: #008000\">   0.8648 </span> \n",
       "                              \n",
       "</pre>\n"
      ]
     },
     "metadata": {},
     "output_type": "display_data"
    },
    {
     "data": {
      "text/plain": [
       "\u001B[3m                           Fairness Metrics                            \u001B[0m\n",
       "                                                                       \n",
       " \u001B[1;34m \u001B[0m\u001B[1;34mMetric                       \u001B[0m\u001B[1;34m \u001B[0m \u001B[1;34m \u001B[0m\u001B[1;34m   Value\u001B[0m\u001B[1;34m \u001B[0m \u001B[1;34m \u001B[0m\u001B[1;34m   Status   \u001B[0m\u001B[1;34m \u001B[0m \u001B[1;34m \u001B[0m\u001B[1;34mThreshold\u001B[0m\u001B[1;34m \u001B[0m \n",
       " ───────────────────────────────────────────────────────────────────── \n",
       " \u001B[36m \u001B[0m\u001B[36mDemographic Parity Difference\u001B[0m\u001B[36m \u001B[0m \u001B[35m \u001B[0m\u001B[35m  0.1795\u001B[0m\u001B[35m \u001B[0m \u001B[1m \u001B[0m\u001B[1;31m❌ VIOLATION\u001B[0m\u001B[1m \u001B[0m \u001B[2m \u001B[0m\u001B[2m    ≤ 0.1\u001B[0m\u001B[2m \u001B[0m \n",
       " \u001B[36m \u001B[0m\u001B[36mEqualized Odds Difference    \u001B[0m\u001B[36m \u001B[0m \u001B[35m \u001B[0m\u001B[35m  0.2222\u001B[0m\u001B[35m \u001B[0m \u001B[1m \u001B[0m\u001B[1;31m❌ VIOLATION\u001B[0m\u001B[1m \u001B[0m \u001B[2m \u001B[0m\u001B[2m    ≤ 0.1\u001B[0m\u001B[2m \u001B[0m \n",
       "                                                                       \n"
      ],
      "text/html": [
       "<pre style=\"white-space:pre;overflow-x:auto;line-height:normal;font-family:Menlo,'DejaVu Sans Mono',consolas,'Courier New',monospace\"><span style=\"font-style: italic\">                           Fairness Metrics                            </span>\n",
       "                                                                       \n",
       " <span style=\"color: #000080; text-decoration-color: #000080; font-weight: bold\"> Metric                        </span> <span style=\"color: #000080; text-decoration-color: #000080; font-weight: bold\">    Value </span> <span style=\"color: #000080; text-decoration-color: #000080; font-weight: bold\">    Status    </span> <span style=\"color: #000080; text-decoration-color: #000080; font-weight: bold\"> Threshold </span> \n",
       " ───────────────────────────────────────────────────────────────────── \n",
       " <span style=\"color: #008080; text-decoration-color: #008080\"> Demographic Parity Difference </span> <span style=\"color: #800080; text-decoration-color: #800080\">   0.1795 </span> <span style=\"font-weight: bold\"> </span><span style=\"color: #800000; text-decoration-color: #800000; font-weight: bold\">❌ VIOLATION</span><span style=\"font-weight: bold\"> </span> <span style=\"color: #7f7f7f; text-decoration-color: #7f7f7f\">     ≤ 0.1 </span> \n",
       " <span style=\"color: #008080; text-decoration-color: #008080\"> Equalized Odds Difference     </span> <span style=\"color: #800080; text-decoration-color: #800080\">   0.2222 </span> <span style=\"font-weight: bold\"> </span><span style=\"color: #800000; text-decoration-color: #800000; font-weight: bold\">❌ VIOLATION</span><span style=\"font-weight: bold\"> </span> <span style=\"color: #7f7f7f; text-decoration-color: #7f7f7f\">     ≤ 0.1 </span> \n",
       "                                                                       \n",
       "</pre>\n"
      ]
     },
     "metadata": {},
     "output_type": "display_data"
    },
    {
     "data": {
      "text/plain": [
       "\u001B[3m          Overall Assessment           \u001B[0m\n",
       "                                       \n",
       " \u001B[1;34m \u001B[0m\u001B[1;34mMetric                \u001B[0m\u001B[1;34m \u001B[0m \u001B[1;34m \u001B[0m\u001B[1;34m     Score\u001B[0m\u001B[1;34m \u001B[0m \n",
       " ───────────────────────────────────── \n",
       " \u001B[36m \u001B[0m\u001B[36mOverall Fairness Score\u001B[0m\u001B[36m \u001B[0m \u001B[1;32m \u001B[0m\u001B[1;32m    0.7778\u001B[0m\u001B[1;32m \u001B[0m \n",
       "                                       \n"
      ],
      "text/html": [
       "<pre style=\"white-space:pre;overflow-x:auto;line-height:normal;font-family:Menlo,'DejaVu Sans Mono',consolas,'Courier New',monospace\"><span style=\"font-style: italic\">          Overall Assessment           </span>\n",
       "                                       \n",
       " <span style=\"color: #000080; text-decoration-color: #000080; font-weight: bold\"> Metric                 </span> <span style=\"color: #000080; text-decoration-color: #000080; font-weight: bold\">      Score </span> \n",
       " ───────────────────────────────────── \n",
       " <span style=\"color: #008080; text-decoration-color: #008080\"> Overall Fairness Score </span> <span style=\"color: #008000; text-decoration-color: #008000; font-weight: bold\">     0.7778 </span> \n",
       "                                       \n",
       "</pre>\n"
      ]
     },
     "metadata": {},
     "output_type": "display_data"
    },
    {
     "data": {
      "text/plain": [
       "\u001B[31m⚠️  \u001B[0m\u001B[1;31m2\u001B[0m\u001B[31m fairness violations detected\u001B[0m\n"
      ],
      "text/html": [
       "<pre style=\"white-space:pre;overflow-x:auto;line-height:normal;font-family:Menlo,'DejaVu Sans Mono',consolas,'Courier New',monospace\"><span style=\"color: #800000; text-decoration-color: #800000\">⚠️  </span><span style=\"color: #800000; text-decoration-color: #800000; font-weight: bold\">2</span><span style=\"color: #800000; text-decoration-color: #800000\"> fairness violations detected</span>\n",
       "</pre>\n"
      ]
     },
     "metadata": {},
     "output_type": "display_data"
    },
    {
     "data": {
      "text/plain": [
       "\n"
      ],
      "text/html": [
       "<pre style=\"white-space:pre;overflow-x:auto;line-height:normal;font-family:Menlo,'DejaVu Sans Mono',consolas,'Courier New',monospace\">\n",
       "</pre>\n"
      ]
     },
     "metadata": {},
     "output_type": "display_data"
    },
    {
     "name": "stderr",
     "output_type": "stream",
     "text": [
      "Successfully registered model 'fairness_pipeline_20250819_145330_model'.\n",
      "Created version '1' of model 'fairness_pipeline_20250819_145330_model'.\n"
     ]
    }
   ],
   "execution_count": 7
  },
  {
   "cell_type": "markdown",
   "id": "37988oav644",
   "source": [
    "## 4.5) Understanding What Happened: Method Analysis\n",
    "\n",
    "## Why the Pipeline Used Mean Matching (And Why That Mattered)\n",
    "\n",
    "### **The Default Method Selection**\n",
    "\n",
    "Looking at our configuration, notice that **no bias mitigation method was specified**:\n",
    "\n",
    "```yaml\n",
    "preprocessing:\n",
    "  transformer:\n",
    "    name: \"BiasMitigationTransformer\"\n",
    "    parameters:\n",
    "      repair_level: 0.8\n",
    "      random_state: 42\n",
    "      # method: NOT SPECIFIED - uses default!\n",
    "```\n",
    "\n",
    "**Result**: The pipeline automatically used the default method: `mean_matching`\n",
    "\n",
    "### **What Mean Matching Actually Did**\n",
    "\n",
    "**Simple but problematic approach:**\n",
    "1. Calculated average income for each racial group\n",
    "2. Moved group averages toward overall population average  \n",
    "3. Applied uniform adjustments to everyone in each group\n",
    "4. **Completely ignored relationships between features**\n",
    "\n",
    "**Concrete example from our data:**\n",
    "- Black applicants: +$15,000 income boost to everyone\n",
    "- White applicants: -$10,000 income reduction to everyone  \n",
    "- Education, experience, age: **unchanged**\n",
    "- **Result**: Unrealistic profiles (high income + low education combinations)\n",
    "\n",
    "### **Why This Caused Problems**\n",
    "\n",
    "**Broken correlations confused the fair classifier:**\n",
    "- Original data: income correlates with education/experience\n",
    "- After mean matching: high-income people with low education/experience\n",
    "- Fair classifier couldn't make sensible decisions with unrealistic data\n",
    "- Final fairness got **worse** instead of better\n",
    "\n",
    "### **The Simple Fix**\n",
    "\n",
    "To preserve feature relationships, specify covariance matching:\n",
    "\n",
    "```yaml\n",
    "preprocessing:\n",
    "  transformer:\n",
    "    name: \"BiasMitigationTransformer\"\n",
    "    parameters:\n",
    "      repair_level: 0.8\n",
    "      method: \"covariance_matching\"  # ADD THIS LINE\n",
    "      random_state: 42\n",
    "```\n",
    "\n",
    "**What this would do:**\n",
    "- Still adjust group averages (like mean matching)\n",
    "- **Additionally preserve relationships between features**\n",
    "- When income increases, education and experience adjust proportionally\n",
    "- Creates realistic profiles that don't confuse the model\n",
    "\n",
    "**Bottom line**: The notebook's poor results were largely due to using the wrong default method. Simply adding `method: \"covariance_matching\"` would likely have achieved the intended fairness improvement."
   ],
   "metadata": {}
  },
  {
   "cell_type": "markdown",
   "id": "76ad72a992a7ac8",
   "metadata": {},
   "source": [
    "## 5) Results: Fairness & Performance\n",
    "\n",
    "Compare baseline vs final metrics and review visualization summaries.\n"
   ]
  },
  {
   "cell_type": "markdown",
   "id": "hsjamrinhgv",
   "source": [
    "## 5.1) Configuration Analysis: Current vs Recommended\n",
    "\n",
    "### **Configuration Comparison: Current vs Recommended**\n",
    "\n",
    "**Current configuration (used in this demo):**\n",
    "```yaml\n",
    "preprocessing:\n",
    "  transformer:\n",
    "    name: \"BiasMitigationTransformer\"\n",
    "    parameters:\n",
    "      repair_level: 0.8          # Partial correction\n",
    "      random_state: 42\n",
    "      # method: defaults to \"mean_matching\" (breaks correlations)\n",
    "```\n",
    "\n",
    "**Recommended configuration for better fairness:**\n",
    "```yaml\n",
    "preprocessing:\n",
    "  transformer:\n",
    "    name: \"BiasMitigationTransformer\"  \n",
    "    parameters:\n",
    "      repair_level: 1.0          # Full correction\n",
    "      method: \"covariance_matching\"  # Preserves correlations\n",
    "      random_state: 42\n",
    "```\n",
    "\n",
    "**Expected improvement**: This single change would likely prevent the fairness violation by maintaining realistic feature relationships that the fair classifier can work with effectively.\n",
    "\n",
    "**Why covariance matching works better:**\n",
    "- Mean matching: Adjusts group averages only → breaks feature correlations\n",
    "- Covariance matching: Adjusts group averages + preserves feature relationships\n",
    "- Result: Fair classifier receives realistic, unbiased data to work with"
   ],
   "metadata": {}
  },
  {
   "cell_type": "code",
   "id": "644bef9058d03fa9",
   "metadata": {
    "ExecuteTime": {
     "end_time": "2025-08-19T11:53:37.529586Z",
     "start_time": "2025-08-19T11:53:33.847258Z"
    }
   },
   "source": "baseline_metrics = results[\"baseline_report\"][\"prediction_audit\"][\"metrics\"]\nfinal_metrics = results[\"final_report\"][\"metrics\"]\nthreshold = config[\"evaluation\"][\"fairness_threshold\"]\n\nfairness_fig = plot_fairness_comparison(\n    baseline_metrics=baseline_metrics,\n    final_metrics=final_metrics,\n    viz_config=viz_config,\n    fairness_threshold=threshold,\n    title=\"Fairness Improvement: Before vs After Pipeline\",\n)\nperformance_fig = plot_performance_comparison(\n    baseline_metrics=baseline_metrics,\n    final_metrics=final_metrics,\n    viz_config=viz_config,\n    title=\"Performance Metrics: Impact of Fairness Intervention\",\n)\n\nimg1 = _Path(\"../images/fairness_comparison.png\")\nimg2 = _Path(\"../images/performance_comparison.png\")\nif img1.exists():\n    display(Image(filename=str(img1), width=720))\nif img2.exists():\n    display(Image(filename=str(img2), width=720))\n\nbaseline_accuracy = baseline_metrics.get(\"accuracy\", float(\"nan\"))\nfinal_accuracy = final_metrics.get(\"accuracy\", float(\"nan\"))\naccuracy_change = final_accuracy - baseline_accuracy\n\nprimary_metric = config[\"evaluation\"][\"primary_metric\"]\nb_primary = baseline_metrics.get(primary_metric, float(\"nan\"))\nf_primary = final_metrics.get(primary_metric, float(\"nan\"))\nprimary_change = b_primary - f_primary\n\nstatus_primary = (\n    \"SUCCESS\"\n    if f_primary <= threshold\n    else (\"IMPROVED\" if primary_change > 0 else \"FAILED\")\n)\n\nmd(\n    f\"\"\"\n**Performance**\n\n- Accuracy before: **{baseline_accuracy:.3f}**\n- Accuracy after:  **{final_accuracy:.3f}**\n- Change: **{accuracy_change:+.3f}**\n\n**Fairness (lower is better)**\n\n- Primary metric (**{primary_metric.replace(\"_\", \" \")}**) before: **{b_primary:.3f}**  \n- Primary metric after: **{f_primary:.3f}**  \n- Change: **{(b_primary - f_primary):+.3f}**  \n- Threshold: **≤ {threshold}**  \n- Result: **{status_primary}**\n\n**Why the fairness got worse:**\n1. **Default method used**: `mean_matching` (destroys feature correlations)\n2. **Partial correction**: `repair_level: 0.8` (only 80% bias correction)\n3. **Small sample effects**: 1000 samples create variance in group statistics\n\n**Quick fixes for better results:**\n- Change `method: \"covariance_matching\"` (preserves correlations)\n- Increase `repair_level: 1.0` (full bias correction)\n\"\"\"\n)",
   "outputs": [],
   "execution_count": null
  },
  {
   "cell_type": "markdown",
   "id": "671b961786b5c7d",
   "metadata": {},
   "source": [
    "## 6) Experiment Tracking (MLflow)\n",
    "\n",
    "Key metrics, parameters, models, and the config file are logged for full reproducibility.\n"
   ]
  },
  {
   "cell_type": "code",
   "id": "72c50205b275c987",
   "metadata": {
    "ExecuteTime": {
     "end_time": "2025-08-19T11:53:37.580093Z",
     "start_time": "2025-08-19T11:53:37.554731Z"
    }
   },
   "source": [
    "experiment_name = results.get(\"experiment_name\")\n",
    "run_id = results.get(\"run_id\")\n",
    "\n",
    "if experiment_name and run_id:\n",
    "    client = MlflowClient()\n",
    "    experiment = mlflow.get_experiment_by_name(experiment_name)\n",
    "    if experiment:\n",
    "        run = client.get_run(run_id)\n",
    "        start_ts = datetime.fromtimestamp(run.info.start_time / 1000).strftime(\n",
    "            \"%Y-%m-%d %H:%M:%S\"\n",
    "        )\n",
    "        md(\n",
    "            f\"\"\"\n",
    "**MLflow**\n",
    "\n",
    "- Experiment: **{experiment_name}**  \n",
    "- Current run: **{run_id}**  \n",
    "- Started: **{start_ts}**  \n",
    "- Tracked metrics: **{len(run.data.metrics)}**  \n",
    "- Tracked params: **{len(run.data.params)}**\n",
    "\"\"\"\n",
    "        )\n",
    "    else:\n",
    "        md(\"> MLflow experiment not found.\")\n",
    "else:\n",
    "    experiment_name = config[\"mlflow\"][\"experiment_name\"]\n",
    "    experiment = mlflow.get_experiment_by_name(experiment_name)\n",
    "    if experiment:\n",
    "        client = MlflowClient()\n",
    "        runs = client.search_runs(\n",
    "            experiment_ids=[experiment.experiment_id],\n",
    "            max_results=1,\n",
    "            order_by=[\"start_time DESC\"],\n",
    "        )\n",
    "        if runs:\n",
    "            latest = runs[0]\n",
    "            rid = latest.info.run_id\n",
    "            start_ts = datetime.fromtimestamp(latest.info.start_time / 1000).strftime(\n",
    "                \"%Y-%m-%d %H:%M:%S\"\n",
    "            )\n",
    "            md(\n",
    "                f\"\"\"\n",
    "**MLflow**\n",
    "\n",
    "- Experiment: **{experiment_name}**  \n",
    "- Latest run: **{rid}**  \n",
    "- Started: **{start_ts}**  \n",
    "- Tracked metrics: **{len(latest.data.metrics)}**  \n",
    "- Tracked params: **{len(latest.data.params)}**\n",
    "\"\"\"\n",
    "            )\n",
    "    else:\n",
    "        md(\"> No MLflow experiment found.\")"
   ],
   "outputs": [
    {
     "data": {
      "text/plain": [
       "<IPython.core.display.Markdown object>"
      ],
      "text/markdown": "\n**MLflow**\n\n- Experiment: **fairness_pipeline_20250819_145330**  \n- Current run: **454d94ce66e641bfb494ed54dc6ecf03**  \n- Started: **2025-08-19 14:53:30**  \n- Tracked metrics: **28**  \n- Tracked params: **3**\n"
     },
     "metadata": {},
     "output_type": "display_data"
    }
   ],
   "execution_count": 9
  },
  {
   "cell_type": "markdown",
   "id": "10413be7f6df4655",
   "metadata": {},
   "source": [
    "## 7) Full Pipeline Execution with Complete Output Capture\n",
    "\n",
    "Demonstrates capturing all stdout/stderr from the pipeline for complete analysis.\n"
   ]
  },
  {
   "cell_type": "code",
   "id": "6732b2d932ae7e21",
   "metadata": {
    "ExecuteTime": {
     "end_time": "2025-08-19T11:53:41.905956Z",
     "start_time": "2025-08-19T11:53:37.588374Z"
    }
   },
   "source": [
    "def capture_full_pipeline_output():\n",
    "    \"\"\"Capture complete pipeline output for analysis\"\"\"\n",
    "    original_dir = os.getcwd()\n",
    "    parent_dir = os.path.dirname(os.getcwd())\n",
    "    os.chdir(parent_dir)\n",
    "\n",
    "    try:\n",
    "        md(\"**Running full pipeline with complete output capture...**\")\n",
    "\n",
    "        result = subprocess.run(\n",
    "            [\"python\", \"run_pipeline.py\", \"config.yml\"],\n",
    "            capture_output=True,\n",
    "            text=True,\n",
    "            timeout=300,\n",
    "        )\n",
    "\n",
    "        md(f\"**Exit code:** `{result.returncode}`\")\n",
    "\n",
    "        if result.stdout:\n",
    "            md(\"**Complete stdout:**\")\n",
    "            print(result.stdout)\n",
    "\n",
    "        if result.stderr:\n",
    "            md(\"**stderr (if any):**\")\n",
    "            print(result.stderr)\n",
    "\n",
    "        if \"demographic_parity_difference\" in result.stdout:\n",
    "            md(\"**Analysis: Why fairness metrics got worse**\")\n",
    "            md(\"\"\"\n",
    "**Root causes:**\n",
    "1. **repair_level: 0.8** → Only 80% bias correction applied\n",
    "2. **Intersectional bias** → race × gender combinations create complex patterns\n",
    "3. **Small sample size** → 1000 samples create high variance in group statistics\n",
    "\n",
    "**Quick fix:** Set `repair_level: 1.0` in config.yml for full bias correction.\n",
    "            \"\"\")\n",
    "\n",
    "        return result\n",
    "\n",
    "    except subprocess.TimeoutExpired:\n",
    "        md(\"**Pipeline execution timed out after 5 minutes**\")\n",
    "        return None\n",
    "    except Exception as error:\n",
    "        md(f\"**Error:** {str(error)}\")\n",
    "        return None\n",
    "    finally:\n",
    "        os.chdir(original_dir)\n",
    "\n",
    "\n",
    "pipeline_result = capture_full_pipeline_output()"
   ],
   "outputs": [
    {
     "data": {
      "text/plain": [
       "<IPython.core.display.Markdown object>"
      ],
      "text/markdown": "**Running full pipeline with complete output capture...**"
     },
     "metadata": {},
     "output_type": "display_data"
    },
    {
     "data": {
      "text/plain": [
       "<IPython.core.display.Markdown object>"
      ],
      "text/markdown": "**Exit code:** `0`"
     },
     "metadata": {},
     "output_type": "display_data"
    },
    {
     "data": {
      "text/plain": [
       "<IPython.core.display.Markdown object>"
      ],
      "text/markdown": "**Complete stdout:**"
     },
     "metadata": {},
     "output_type": "display_data"
    },
    {
     "name": "stdout",
     "output_type": "stream",
     "text": [
      "2025-08-19 14:53:38,918 - fairness_pipeline - INFO - Loading configuration from: config.yml\n",
      "2025-08-19 14:53:38,920 - fairness_pipeline - INFO - Validating configuration...\n",
      "2025-08-19 14:53:38,920 - fairness_pipeline - INFO - ✓ Configuration validated\n",
      "{\"timestamp\": \"2025-08-19 14:53:38\", \"level\": \"INFO\", \"logger\": \"fairness_pipeline.executor\", \"message\": \"Starting pipeline_execution\", \"module\": \"logging_config\", \"function\": \"log_stage_start\", \"line\": 220, \"component\": \"executor\", \"stage\": \"pipeline_execution\"}\n",
      "{\"timestamp\": \"2025-08-19 14:53:38\", \"level\": \"INFO\", \"logger\": \"fairness_pipeline.performance\", \"message\": \"Started full_pipeline\", \"module\": \"logging_config\", \"function\": \"start_timer\", \"line\": 76, \"component\": \"performance\", \"stage\": \"start\"}\n",
      "{\"timestamp\": \"2025-08-19 14:53:38\", \"level\": \"DEBUG\", \"logger\": \"urllib3.connectionpool\", \"message\": \"https://config.mlflow-telemetry.io:443 \\\"GET /3.2.0.json HTTP/1.1\\\" 200 215\", \"module\": \"connectionpool\", \"function\": \"_make_request\", \"line\": 544}\n",
      "{\"timestamp\": \"2025-08-19 14:53:38\", \"level\": \"DEBUG\", \"logger\": \"git.cmd\", \"message\": \"Popen(['git', 'version'], cwd=/Users/vytautasbunevicius/fairness-pipeline-toolkit, stdin=None, shell=False, universal_newlines=False)\", \"module\": \"cmd\", \"function\": \"execute\", \"line\": 1270}\n",
      "{\"timestamp\": \"2025-08-19 14:53:38\", \"level\": \"DEBUG\", \"logger\": \"git.cmd\", \"message\": \"Popen(['git', 'version'], cwd=/Users/vytautasbunevicius/fairness-pipeline-toolkit, stdin=None, shell=False, universal_newlines=False)\", \"module\": \"cmd\", \"function\": \"execute\", \"line\": 1270}\n",
      "{\"timestamp\": \"2025-08-19 14:53:39\", \"level\": \"DEBUG\", \"logger\": \"git.util\", \"message\": \"sys.platform='darwin', git_executable='git'\", \"module\": \"util\", \"function\": \"is_cygwin_git\", \"line\": 494}\n",
      "{\"timestamp\": \"2025-08-19 14:53:39\", \"level\": \"DEBUG\", \"logger\": \"git.cmd\", \"message\": \"Popen(['git', 'check-ignore', '/Users/vytautasbunevicius/fairness-pipeline-toolkit'], cwd=/Users/vytautasbunevicius/fairness-pipeline-toolkit, stdin=None, shell=False, universal_newlines=False)\", \"module\": \"cmd\", \"function\": \"execute\", \"line\": 1270}\n",
      "{\"timestamp\": \"2025-08-19 14:53:39\", \"level\": \"DEBUG\", \"logger\": \"git.cmd\", \"message\": \"Popen(['git', 'cat-file', '--batch-check'], cwd=/Users/vytautasbunevicius/fairness-pipeline-toolkit, stdin=<valid stream>, shell=False, universal_newlines=False)\", \"module\": \"cmd\", \"function\": \"execute\", \"line\": 1270}\n",
      "{\"timestamp\": \"2025-08-19 14:53:39\", \"level\": \"DEBUG\", \"logger\": \"urllib3.connectionpool\", \"message\": \"Starting new HTTPS connection (1): api.mlflow-telemetry.io:443\", \"module\": \"connectionpool\", \"function\": \"_new_conn\", \"line\": 1049}\n",
      "{\"timestamp\": \"2025-08-19 14:53:39\", \"level\": \"INFO\", \"logger\": \"fairness_pipeline.performance\", \"message\": \"Started data_loading\", \"module\": \"logging_config\", \"function\": \"start_timer\", \"line\": 76, \"component\": \"performance\", \"stage\": \"start\"}\n",
      "{\"timestamp\": \"2025-08-19 14:53:39\", \"level\": \"WARNING\", \"logger\": \"fairness_pipeline.executor\", \"message\": \"Data file not found, generating synthetic data\", \"module\": \"logging_config\", \"function\": \"log_warning\", \"line\": 236, \"component\": \"executor\"}\n",
      "{\"timestamp\": \"2025-08-19 14:53:39\", \"level\": \"INFO\", \"logger\": \"fairness_pipeline.executor\", \"message\": \"Loaded data with shape (1000, 6)\", \"module\": \"logging_config\", \"function\": \"log_data_info\", \"line\": 273, \"component\": \"executor\", \"stage\": \"data_loading\"}\n",
      "{\"timestamp\": \"2025-08-19 14:53:39\", \"level\": \"INFO\", \"logger\": \"fairness_pipeline.executor\", \"message\": \"Completed data_split\", \"module\": \"logging_config\", \"function\": \"log_stage_complete\", \"line\": 228, \"component\": \"executor\", \"stage\": \"data_split\"}\n",
      "{\"timestamp\": \"2025-08-19 14:53:39\", \"level\": \"INFO\", \"logger\": \"fairness_pipeline.performance\", \"message\": \"Completed data_loading\", \"module\": \"logging_config\", \"function\": \"end_timer\", \"line\": 94, \"component\": \"performance\", \"stage\": \"complete\", \"duration_ms\": 71.38919830322266}\n",
      "{\"timestamp\": \"2025-08-19 14:53:39\", \"level\": \"INFO\", \"logger\": \"fairness_pipeline.performance\", \"message\": \"Started baseline_measurement\", \"module\": \"logging_config\", \"function\": \"start_timer\", \"line\": 76, \"component\": \"performance\", \"stage\": \"start\"}\n",
      "{\"timestamp\": \"2025-08-19 14:53:39\", \"level\": \"INFO\", \"logger\": \"fairness_pipeline.executor\", \"message\": \"Starting baseline_measurement\", \"module\": \"logging_config\", \"function\": \"log_stage_start\", \"line\": 220, \"component\": \"executor\", \"stage\": \"baseline_measurement\"}\n",
      "{\"timestamp\": \"2025-08-19 14:53:39\", \"level\": \"INFO\", \"logger\": \"fairness_pipeline.performance\", \"message\": \"Metric accuracy: 0.9000\", \"module\": \"logging_config\", \"function\": \"log_metric\", \"line\": 109, \"component\": \"metrics\", \"stage\": \"baseline\", \"metric_name\": \"accuracy\", \"metric_value\": 0.9}\n",
      "{\"timestamp\": \"2025-08-19 14:53:39\", \"level\": \"INFO\", \"logger\": \"fairness_pipeline.performance\", \"message\": \"Metric precision: 0.8822\", \"module\": \"logging_config\", \"function\": \"log_metric\", \"line\": 109, \"component\": \"metrics\", \"stage\": \"baseline\", \"metric_name\": \"precision\", \"metric_value\": 0.8821759259259259}\n",
      "{\"timestamp\": \"2025-08-19 14:53:39\", \"level\": \"INFO\", \"logger\": \"fairness_pipeline.performance\", \"message\": \"Metric recall: 0.9000\", \"module\": \"logging_config\", \"function\": \"log_metric\", \"line\": 109, \"component\": \"metrics\", \"stage\": \"baseline\", \"metric_name\": \"recall\", \"metric_value\": 0.9}\n",
      "{\"timestamp\": \"2025-08-19 14:53:39\", \"level\": \"INFO\", \"logger\": \"fairness_pipeline.performance\", \"message\": \"Metric f1_score: 0.8781\", \"module\": \"logging_config\", \"function\": \"log_metric\", \"line\": 109, \"component\": \"metrics\", \"stage\": \"baseline\", \"metric_name\": \"f1_score\", \"metric_value\": 0.8780725160885261}\n",
      "{\"timestamp\": \"2025-08-19 14:53:39\", \"level\": \"INFO\", \"logger\": \"fairness_pipeline.performance\", \"message\": \"Metric demographic_parity_difference: 0.0361\", \"module\": \"logging_config\", \"function\": \"log_metric\", \"line\": 109, \"component\": \"metrics\", \"stage\": \"baseline\", \"metric_name\": \"demographic_parity_difference\", \"metric_value\": 0.03610248447204969}\n",
      "{\"timestamp\": \"2025-08-19 14:53:39\", \"level\": \"INFO\", \"logger\": \"fairness_pipeline.performance\", \"message\": \"Metric equalized_odds_difference: 0.3000\", \"module\": \"logging_config\", \"function\": \"log_metric\", \"line\": 109, \"component\": \"metrics\", \"stage\": \"baseline\", \"metric_name\": \"equalized_odds_difference\", \"metric_value\": 0.3}\n",
      "{\"timestamp\": \"2025-08-19 14:53:39\", \"level\": \"INFO\", \"logger\": \"fairness_pipeline.executor\", \"message\": \"Completed baseline_measurement\", \"module\": \"logging_config\", \"function\": \"log_stage_complete\", \"line\": 228, \"component\": \"executor\", \"stage\": \"baseline_measurement\"}\n",
      "\n",
      "\u001B[1;34mBASELINE DATASET REPORT\u001B[0m\n",
      "{\"timestamp\": \"2025-08-19 14:53:39\", \"level\": \"INFO\", \"logger\": \"fairness_pipeline.bias_detector\", \"message\": \"Baseline Dataset Report\", \"module\": \"bias_detector\", \"function\": \"print_report\", \"line\": 111, \"component\": \"bias_detector\"}\n",
      "\u001B[3m            Dataset Information             \u001B[0m\n",
      "                                            \n",
      " \u001B[1;34m \u001B[0m\u001B[1;34mAttribute             \u001B[0m\u001B[1;34m \u001B[0m \u001B[1;34m \u001B[0m\u001B[1;34mValue          \u001B[0m\u001B[1;34m \u001B[0m \n",
      " ────────────────────────────────────────── \n",
      " \u001B[36m \u001B[0m\u001B[36mDataset Shape         \u001B[0m\u001B[36m \u001B[0m \u001B[35m \u001B[0m\u001B[35m(600, 6)       \u001B[0m\u001B[35m \u001B[0m \n",
      " \u001B[36m \u001B[0m\u001B[36mGroup: White          \u001B[0m\u001B[36m \u001B[0m \u001B[35m \u001B[0m\u001B[35m368            \u001B[0m\u001B[35m \u001B[0m \n",
      " \u001B[36m \u001B[0m\u001B[36mGroup: Black          \u001B[0m\u001B[36m \u001B[0m \u001B[35m \u001B[0m\u001B[35m110            \u001B[0m\u001B[35m \u001B[0m \n",
      " \u001B[36m \u001B[0m\u001B[36mGroup: Hispanic       \u001B[0m\u001B[36m \u001B[0m \u001B[35m \u001B[0m\u001B[35m94             \u001B[0m\u001B[35m \u001B[0m \n",
      " \u001B[36m \u001B[0m\u001B[36mGroup: Asian          \u001B[0m\u001B[36m \u001B[0m \u001B[35m \u001B[0m\u001B[35m28             \u001B[0m\u001B[35m \u001B[0m \n",
      " \u001B[36m \u001B[0m\u001B[36mTarget Rate Difference\u001B[0m\u001B[36m \u001B[0m \u001B[35m \u001B[0m\u001B[35m0.0509         \u001B[0m\u001B[35m \u001B[0m \n",
      "                                            \n",
      "{\"timestamp\": \"2025-08-19 14:53:39\", \"level\": \"INFO\", \"logger\": \"fairness_pipeline.bias_detector\", \"message\": \"Dataset Shape: (600, 6)\", \"module\": \"bias_detector\", \"function\": \"print_report\", \"line\": 147, \"component\": \"bias_detector\"}\n",
      "\n",
      "\n",
      "\u001B[1;34mBASELINE PREDICTION REPORT\u001B[0m\n",
      "{\"timestamp\": \"2025-08-19 14:53:39\", \"level\": \"INFO\", \"logger\": \"fairness_pipeline.bias_detector\", \"message\": \"Baseline Prediction Report\", \"module\": \"bias_detector\", \"function\": \"print_report\", \"line\": 111, \"component\": \"bias_detector\"}\n",
      "{\"timestamp\": \"2025-08-19 14:53:39\", \"level\": \"INFO\", \"logger\": \"fairness_pipeline.bias_detector\", \"message\": \"Accuracy: 0.9000\", \"module\": \"bias_detector\", \"function\": \"print_report\", \"line\": 182, \"component\": \"bias_detector\", \"metric_name\": \"accuracy\", \"metric_value\": 0.9}\n",
      "{\"timestamp\": \"2025-08-19 14:53:39\", \"level\": \"INFO\", \"logger\": \"fairness_pipeline.bias_detector\", \"message\": \"Precision: 0.8822\", \"module\": \"bias_detector\", \"function\": \"print_report\", \"line\": 182, \"component\": \"bias_detector\", \"metric_name\": \"precision\", \"metric_value\": 0.8821759259259259}\n",
      "{\"timestamp\": \"2025-08-19 14:53:39\", \"level\": \"INFO\", \"logger\": \"fairness_pipeline.bias_detector\", \"message\": \"Recall: 0.9000\", \"module\": \"bias_detector\", \"function\": \"print_report\", \"line\": 182, \"component\": \"bias_detector\", \"metric_name\": \"recall\", \"metric_value\": 0.9}\n",
      "{\"timestamp\": \"2025-08-19 14:53:39\", \"level\": \"INFO\", \"logger\": \"fairness_pipeline.bias_detector\", \"message\": \"F1_Score: 0.8781\", \"module\": \"bias_detector\", \"function\": \"print_report\", \"line\": 182, \"component\": \"bias_detector\", \"metric_name\": \"f1_score\", \"metric_value\": 0.8780725160885261}\n",
      "\u001B[3m     Performance Metrics      \u001B[0m\n",
      "                              \n",
      " \u001B[1;34m \u001B[0m\u001B[1;34mMetric         \u001B[0m\u001B[1;34m \u001B[0m \u001B[1;34m \u001B[0m\u001B[1;34m   Value\u001B[0m\u001B[1;34m \u001B[0m \n",
      " ──────────────────────────── \n",
      " \u001B[36m \u001B[0m\u001B[36mAccuracy       \u001B[0m\u001B[36m \u001B[0m \u001B[32m \u001B[0m\u001B[32m  0.9000\u001B[0m\u001B[32m \u001B[0m \n",
      " \u001B[36m \u001B[0m\u001B[36mPrecision      \u001B[0m\u001B[36m \u001B[0m \u001B[32m \u001B[0m\u001B[32m  0.8822\u001B[0m\u001B[32m \u001B[0m \n",
      " \u001B[36m \u001B[0m\u001B[36mRecall         \u001B[0m\u001B[36m \u001B[0m \u001B[32m \u001B[0m\u001B[32m  0.9000\u001B[0m\u001B[32m \u001B[0m \n",
      " \u001B[36m \u001B[0m\u001B[36mF1_Score       \u001B[0m\u001B[36m \u001B[0m \u001B[32m \u001B[0m\u001B[32m  0.8781\u001B[0m\u001B[32m \u001B[0m \n",
      "                              \n",
      "{\"timestamp\": \"2025-08-19 14:53:39\", \"level\": \"INFO\", \"logger\": \"fairness_pipeline.bias_detector\", \"message\": \"Demographic Parity Difference: 0.0361 (\\u2705 OK)\", \"module\": \"bias_detector\", \"function\": \"print_report\", \"line\": 230, \"component\": \"bias_detector\", \"metric_name\": \"demographic_parity_difference\", \"metric_value\": 0.03610248447204969}\n",
      "{\"timestamp\": \"2025-08-19 14:53:39\", \"level\": \"INFO\", \"logger\": \"fairness_pipeline.bias_detector\", \"message\": \"Equalized Odds Difference: 0.3000 (\\u274c VIOLATION)\", \"module\": \"bias_detector\", \"function\": \"print_report\", \"line\": 230, \"component\": \"bias_detector\", \"metric_name\": \"equalized_odds_difference\", \"metric_value\": 0.3}\n",
      "\u001B[3m                           Fairness Metrics                            \u001B[0m\n",
      "                                                                       \n",
      " \u001B[1;34m \u001B[0m\u001B[1;34mMetric                       \u001B[0m\u001B[1;34m \u001B[0m \u001B[1;34m \u001B[0m\u001B[1;34m   Value\u001B[0m\u001B[1;34m \u001B[0m \u001B[1;34m \u001B[0m\u001B[1;34m   Status   \u001B[0m\u001B[1;34m \u001B[0m \u001B[1;34m \u001B[0m\u001B[1;34mThreshold\u001B[0m\u001B[1;34m \u001B[0m \n",
      " ───────────────────────────────────────────────────────────────────── \n",
      " \u001B[36m \u001B[0m\u001B[36mDemographic Parity Difference\u001B[0m\u001B[36m \u001B[0m \u001B[35m \u001B[0m\u001B[35m  0.0361\u001B[0m\u001B[35m \u001B[0m \u001B[1m \u001B[0m\u001B[1m   \u001B[0m\u001B[1;32m✅ OK\u001B[0m\u001B[1m    \u001B[0m\u001B[1m \u001B[0m \u001B[2m \u001B[0m\u001B[2m    ≤ 0.1\u001B[0m\u001B[2m \u001B[0m \n",
      " \u001B[36m \u001B[0m\u001B[36mEqualized Odds Difference    \u001B[0m\u001B[36m \u001B[0m \u001B[35m \u001B[0m\u001B[35m  0.3000\u001B[0m\u001B[35m \u001B[0m \u001B[1m \u001B[0m\u001B[1;31m❌ VIOLATION\u001B[0m\u001B[1m \u001B[0m \u001B[2m \u001B[0m\u001B[2m    ≤ 0.1\u001B[0m\u001B[2m \u001B[0m \n",
      "                                                                       \n",
      "\u001B[3m          Overall Assessment           \u001B[0m\n",
      "                                       \n",
      " \u001B[1;34m \u001B[0m\u001B[1;34mMetric                \u001B[0m\u001B[1;34m \u001B[0m \u001B[1;34m \u001B[0m\u001B[1;34m     Score\u001B[0m\u001B[1;34m \u001B[0m \n",
      " ───────────────────────────────────── \n",
      " \u001B[36m \u001B[0m\u001B[36mOverall Fairness Score\u001B[0m\u001B[36m \u001B[0m \u001B[1;32m \u001B[0m\u001B[1;32m    0.7000\u001B[0m\u001B[1;32m \u001B[0m \n",
      "                                       \n",
      "{\"timestamp\": \"2025-08-19 14:53:39\", \"level\": \"INFO\", \"logger\": \"fairness_pipeline.bias_detector\", \"message\": \"Overall Fairness Score: 0.7000\", \"module\": \"bias_detector\", \"function\": \"print_report\", \"line\": 268, \"component\": \"bias_detector\"}\n",
      "\u001B[31m⚠️  \u001B[0m\u001B[1;31m1\u001B[0m\u001B[31m fairness violations detected\u001B[0m\n",
      "{\"timestamp\": \"2025-08-19 14:53:39\", \"level\": \"WARNING\", \"logger\": \"fairness_pipeline.bias_detector\", \"message\": \"Fairness violations detected: equalized_odds_violation\", \"module\": \"bias_detector\", \"function\": \"print_report\", \"line\": 286, \"component\": \"bias_detector\"}\n",
      "\n",
      "{\"timestamp\": \"2025-08-19 14:53:39\", \"level\": \"INFO\", \"logger\": \"fairness_pipeline.performance\", \"message\": \"Completed baseline_measurement\", \"module\": \"logging_config\", \"function\": \"end_timer\", \"line\": 94, \"component\": \"performance\", \"stage\": \"complete\", \"duration_ms\": 11.619091033935547}\n",
      "{\"timestamp\": \"2025-08-19 14:53:39\", \"level\": \"INFO\", \"logger\": \"fairness_pipeline.performance\", \"message\": \"Started bias_mitigation_training\", \"module\": \"logging_config\", \"function\": \"start_timer\", \"line\": 76, \"component\": \"performance\", \"stage\": \"start\"}\n",
      "{\"timestamp\": \"2025-08-19 14:53:39\", \"level\": \"INFO\", \"logger\": \"fairness_pipeline.executor\", \"message\": \"Starting bias_mitigation\", \"module\": \"logging_config\", \"function\": \"log_stage_start\", \"line\": 220, \"component\": \"executor\", \"stage\": \"bias_mitigation\"}\n",
      "{\"timestamp\": \"2025-08-19 14:53:39\", \"level\": \"INFO\", \"logger\": \"fairness_pipeline.executor\", \"message\": \"Starting transformer_fitting\", \"module\": \"logging_config\", \"function\": \"log_stage_start\", \"line\": 220, \"component\": \"executor\", \"stage\": \"transformer_fitting\"}\n",
      "{\"timestamp\": \"2025-08-19 14:53:39\", \"level\": \"INFO\", \"logger\": \"fairness_pipeline.executor\", \"message\": \"Completed transformer_fitting\", \"module\": \"logging_config\", \"function\": \"log_stage_complete\", \"line\": 228, \"component\": \"executor\", \"stage\": \"transformer_fitting\"}\n",
      "{\"timestamp\": \"2025-08-19 14:53:39\", \"level\": \"INFO\", \"logger\": \"fairness_pipeline.executor\", \"message\": \"Training FairnessConstrainedClassifier with demographic_parity constraint\", \"module\": \"logging_config\", \"function\": \"log_model_info\", \"line\": 288, \"component\": \"executor\", \"stage\": \"model_training\"}\n",
      "{\"timestamp\": \"2025-08-19 14:53:39\", \"level\": \"INFO\", \"logger\": \"fairness_pipeline.executor\", \"message\": \"Starting model_training\", \"module\": \"logging_config\", \"function\": \"log_stage_start\", \"line\": 220, \"component\": \"executor\", \"stage\": \"model_training\"}\n",
      "{\"timestamp\": \"2025-08-19 14:53:39\", \"level\": \"DEBUG\", \"logger\": \"fairlearn.reductions._exponentiated_gradient.exponentiated_gradient\", \"message\": \"...Exponentiated Gradient STARTING\", \"module\": \"exponentiated_gradient\", \"function\": \"fit\", \"line\": 141}\n",
      "{\"timestamp\": \"2025-08-19 14:53:39\", \"level\": \"DEBUG\", \"logger\": \"fairlearn.reductions._exponentiated_gradient.exponentiated_gradient\", \"message\": \"...iter=000\", \"module\": \"exponentiated_gradient\", \"function\": \"fit\", \"line\": 164}\n",
      "{\"timestamp\": \"2025-08-19 14:53:39\", \"level\": \"DEBUG\", \"logger\": \"fairlearn.reductions._exponentiated_gradient._lagrangian\", \"message\": \"_________best_h: val improvement inf\", \"module\": \"_lagrangian\", \"function\": \"best_h\", \"line\": 251}\n",
      "{\"timestamp\": \"2025-08-19 14:53:39\", \"level\": \"DEBUG\", \"logger\": \"fairlearn.reductions._exponentiated_gradient.exponentiated_gradient\", \"message\": \"...eps=0.010, B=100.0, nu=0.000001, max_iter=100\", \"module\": \"exponentiated_gradient\", \"function\": \"fit\", \"line\": 182}\n",
      "{\"timestamp\": \"2025-08-19 14:53:39\", \"level\": \"DEBUG\", \"logger\": \"fairlearn.reductions._exponentiated_gradient._lagrangian\", \"message\": \"         mul=1\", \"module\": \"_lagrangian\", \"function\": \"eval_gap\", \"line\": 149}\n",
      "{\"timestamp\": \"2025-08-19 14:53:39\", \"level\": \"DEBUG\", \"logger\": \"fairlearn.reductions._exponentiated_gradient.exponentiated_gradient\", \"message\": \"         eta=0.020000, L_low=0.093, L=0.093, L_high=2.760, gap=2.666667, disp=0.037, err=0.093, gap_LP=inf\", \"module\": \"exponentiated_gradient\", \"function\": \"fit\", \"line\": 215}\n",
      "{\"timestamp\": \"2025-08-19 14:53:39\", \"level\": \"DEBUG\", \"logger\": \"fairlearn.reductions._exponentiated_gradient.exponentiated_gradient\", \"message\": \"...iter=001\", \"module\": \"exponentiated_gradient\", \"function\": \"fit\", \"line\": 164}\n",
      "{\"timestamp\": \"2025-08-19 14:53:39\", \"level\": \"DEBUG\", \"logger\": \"fairlearn.reductions._exponentiated_gradient._lagrangian\", \"message\": \"         mul=1\", \"module\": \"_lagrangian\", \"function\": \"eval_gap\", \"line\": 149}\n",
      "{\"timestamp\": \"2025-08-19 14:53:39\", \"level\": \"DEBUG\", \"logger\": \"fairlearn.reductions._exponentiated_gradient._lagrangian\", \"message\": \"_________best_h: val improvement 42.481667\", \"module\": \"_lagrangian\", \"function\": \"best_h\", \"line\": 251}\n",
      "{\"timestamp\": \"2025-08-19 14:53:39\", \"level\": \"DEBUG\", \"logger\": \"fairlearn.reductions._exponentiated_gradient._lagrangian\", \"message\": \"         mul=1\", \"module\": \"_lagrangian\", \"function\": \"eval_gap\", \"line\": 149}\n",
      "{\"timestamp\": \"2025-08-19 14:53:39\", \"level\": \"DEBUG\", \"logger\": \"fairlearn.reductions._exponentiated_gradient.exponentiated_gradient\", \"message\": \"         eta=0.020000, L_low=0.093, L=0.093, L_high=2.760, gap=2.666507, disp=0.037, err=0.093, gap_LP=42.481667\", \"module\": \"exponentiated_gradient\", \"function\": \"fit\", \"line\": 215}\n",
      "{\"timestamp\": \"2025-08-19 14:53:39\", \"level\": \"DEBUG\", \"logger\": \"fairlearn.reductions._exponentiated_gradient.exponentiated_gradient\", \"message\": \"...iter=002\", \"module\": \"exponentiated_gradient\", \"function\": \"fit\", \"line\": 164}\n",
      "{\"timestamp\": \"2025-08-19 14:53:39\", \"level\": \"DEBUG\", \"logger\": \"fairlearn.reductions._exponentiated_gradient._lagrangian\", \"message\": \"         mul=1\", \"module\": \"_lagrangian\", \"function\": \"eval_gap\", \"line\": 149}\n",
      "{\"timestamp\": \"2025-08-19 14:53:39\", \"level\": \"DEBUG\", \"logger\": \"fairlearn.reductions._exponentiated_gradient._lagrangian\", \"message\": \"_________best_h: val improvement 10.093416\", \"module\": \"_lagrangian\", \"function\": \"best_h\", \"line\": 251}\n",
      "{\"timestamp\": \"2025-08-19 14:53:39\", \"level\": \"DEBUG\", \"logger\": \"fairlearn.reductions._exponentiated_gradient._lagrangian\", \"message\": \"         mul=1\", \"module\": \"_lagrangian\", \"function\": \"eval_gap\", \"line\": 149}\n",
      "{\"timestamp\": \"2025-08-19 14:53:39\", \"level\": \"DEBUG\", \"logger\": \"fairlearn.reductions._exponentiated_gradient.exponentiated_gradient\", \"message\": \"         eta=0.020000, L_low=0.094, L=0.094, L_high=2.760, gap=2.666348, disp=0.037, err=0.093, gap_LP=10.093416\", \"module\": \"exponentiated_gradient\", \"function\": \"fit\", \"line\": 215}\n",
      "{\"timestamp\": \"2025-08-19 14:53:39\", \"level\": \"DEBUG\", \"logger\": \"fairlearn.reductions._exponentiated_gradient.exponentiated_gradient\", \"message\": \"...iter=003\", \"module\": \"exponentiated_gradient\", \"function\": \"fit\", \"line\": 164}\n",
      "{\"timestamp\": \"2025-08-19 14:53:39\", \"level\": \"DEBUG\", \"logger\": \"fairlearn.reductions._exponentiated_gradient._lagrangian\", \"message\": \"         mul=1\", \"module\": \"_lagrangian\", \"function\": \"eval_gap\", \"line\": 149}\n",
      "{\"timestamp\": \"2025-08-19 14:53:39\", \"level\": \"DEBUG\", \"logger\": \"fairlearn.reductions._exponentiated_gradient._lagrangian\", \"message\": \"_________best_h: val improvement 4.346525\", \"module\": \"_lagrangian\", \"function\": \"best_h\", \"line\": 251}\n",
      "{\"timestamp\": \"2025-08-19 14:53:39\", \"level\": \"DEBUG\", \"logger\": \"fairlearn.reductions._exponentiated_gradient._lagrangian\", \"message\": \"         mul=1\", \"module\": \"_lagrangian\", \"function\": \"eval_gap\", \"line\": 149}\n",
      "{\"timestamp\": \"2025-08-19 14:53:39\", \"level\": \"DEBUG\", \"logger\": \"fairlearn.reductions._exponentiated_gradient.exponentiated_gradient\", \"message\": \"         eta=0.020000, L_low=0.094, L=0.094, L_high=2.760, gap=2.666188, disp=0.037, err=0.093, gap_LP=4.346525\", \"module\": \"exponentiated_gradient\", \"function\": \"fit\", \"line\": 215}\n",
      "{\"timestamp\": \"2025-08-19 14:53:39\", \"level\": \"DEBUG\", \"logger\": \"fairlearn.reductions._exponentiated_gradient.exponentiated_gradient\", \"message\": \"...iter=004\", \"module\": \"exponentiated_gradient\", \"function\": \"fit\", \"line\": 164}\n",
      "{\"timestamp\": \"2025-08-19 14:53:39\", \"level\": \"DEBUG\", \"logger\": \"fairlearn.reductions._exponentiated_gradient._lagrangian\", \"message\": \"_________best_h: val improvement 0.000345\", \"module\": \"_lagrangian\", \"function\": \"best_h\", \"line\": 251}\n",
      "{\"timestamp\": \"2025-08-19 14:53:39\", \"level\": \"DEBUG\", \"logger\": \"fairlearn.reductions._exponentiated_gradient._lagrangian\", \"message\": \"         mul=1\", \"module\": \"_lagrangian\", \"function\": \"eval_gap\", \"line\": 149}\n",
      "{\"timestamp\": \"2025-08-19 14:53:39\", \"level\": \"DEBUG\", \"logger\": \"fairlearn.reductions._exponentiated_gradient._lagrangian\", \"message\": \"_________best_h: val improvement 4.781846\", \"module\": \"_lagrangian\", \"function\": \"best_h\", \"line\": 251}\n",
      "{\"timestamp\": \"2025-08-19 14:53:39\", \"level\": \"DEBUG\", \"logger\": \"fairlearn.reductions._exponentiated_gradient._lagrangian\", \"message\": \"         mul=1\", \"module\": \"_lagrangian\", \"function\": \"eval_gap\", \"line\": 149}\n",
      "{\"timestamp\": \"2025-08-19 14:53:39\", \"level\": \"DEBUG\", \"logger\": \"fairlearn.reductions._exponentiated_gradient.exponentiated_gradient\", \"message\": \"         eta=0.020000, L_low=0.094, L=0.094, L_high=2.560, gap=2.466063, disp=0.035, err=0.093, gap_LP=4.781846\", \"module\": \"exponentiated_gradient\", \"function\": \"fit\", \"line\": 215}\n",
      "{\"timestamp\": \"2025-08-19 14:53:39\", \"level\": \"DEBUG\", \"logger\": \"fairlearn.reductions._exponentiated_gradient.exponentiated_gradient\", \"message\": \"...iter=005\", \"module\": \"exponentiated_gradient\", \"function\": \"fit\", \"line\": 164}\n",
      "{\"timestamp\": \"2025-08-19 14:53:39\", \"level\": \"DEBUG\", \"logger\": \"fairlearn.reductions._exponentiated_gradient._lagrangian\", \"message\": \"         mul=1\", \"module\": \"_lagrangian\", \"function\": \"eval_gap\", \"line\": 149}\n",
      "{\"timestamp\": \"2025-08-19 14:53:39\", \"level\": \"DEBUG\", \"logger\": \"fairlearn.reductions._exponentiated_gradient._lagrangian\", \"message\": \"_________best_h: val improvement 1.562500\", \"module\": \"_lagrangian\", \"function\": \"best_h\", \"line\": 251}\n",
      "{\"timestamp\": \"2025-08-19 14:53:39\", \"level\": \"DEBUG\", \"logger\": \"fairlearn.reductions._exponentiated_gradient._lagrangian\", \"message\": \"         mul=1\", \"module\": \"_lagrangian\", \"function\": \"eval_gap\", \"line\": 149}\n",
      "{\"timestamp\": \"2025-08-19 14:53:39\", \"level\": \"DEBUG\", \"logger\": \"fairlearn.reductions._exponentiated_gradient.exponentiated_gradient\", \"message\": \"         eta=0.020000, L_low=0.094, L=0.094, L_high=2.427, gap=2.332607, disp=0.033, err=0.093, gap_LP=1.562500\", \"module\": \"exponentiated_gradient\", \"function\": \"fit\", \"line\": 215}\n",
      "{\"timestamp\": \"2025-08-19 14:53:39\", \"level\": \"DEBUG\", \"logger\": \"fairlearn.reductions._exponentiated_gradient.exponentiated_gradient\", \"message\": \"...iter=006\", \"module\": \"exponentiated_gradient\", \"function\": \"fit\", \"line\": 164}\n",
      "{\"timestamp\": \"2025-08-19 14:53:39\", \"level\": \"DEBUG\", \"logger\": \"fairlearn.reductions._exponentiated_gradient._lagrangian\", \"message\": \"_________best_h: val improvement 0.001931\", \"module\": \"_lagrangian\", \"function\": \"best_h\", \"line\": 251}\n",
      "{\"timestamp\": \"2025-08-19 14:53:39\", \"level\": \"DEBUG\", \"logger\": \"fairlearn.reductions._exponentiated_gradient._lagrangian\", \"message\": \"         mul=1\", \"module\": \"_lagrangian\", \"function\": \"eval_gap\", \"line\": 149}\n",
      "{\"timestamp\": \"2025-08-19 14:53:39\", \"level\": \"DEBUG\", \"logger\": \"fairlearn.reductions._exponentiated_gradient._lagrangian\", \"message\": \"         mul=1\", \"module\": \"_lagrangian\", \"function\": \"eval_gap\", \"line\": 149}\n",
      "{\"timestamp\": \"2025-08-19 14:53:39\", \"level\": \"DEBUG\", \"logger\": \"fairlearn.reductions._exponentiated_gradient._lagrangian\", \"message\": \"         mul=2\", \"module\": \"_lagrangian\", \"function\": \"eval_gap\", \"line\": 149}\n",
      "{\"timestamp\": \"2025-08-19 14:53:39\", \"level\": \"DEBUG\", \"logger\": \"fairlearn.reductions._exponentiated_gradient._lagrangian\", \"message\": \"         mul=5\", \"module\": \"_lagrangian\", \"function\": \"eval_gap\", \"line\": 149}\n",
      "{\"timestamp\": \"2025-08-19 14:53:39\", \"level\": \"DEBUG\", \"logger\": \"fairlearn.reductions._exponentiated_gradient._lagrangian\", \"message\": \"         mul=10\", \"module\": \"_lagrangian\", \"function\": \"eval_gap\", \"line\": 149}\n",
      "{\"timestamp\": \"2025-08-19 14:53:39\", \"level\": \"DEBUG\", \"logger\": \"fairlearn.reductions._exponentiated_gradient.exponentiated_gradient\", \"message\": \"         eta=0.020000, L_low=0.092, L=0.094, L_high=2.307, gap=2.213455, disp=0.032, err=0.093, gap_LP=0.000000\", \"module\": \"exponentiated_gradient\", \"function\": \"fit\", \"line\": 215}\n",
      "{\"timestamp\": \"2025-08-19 14:53:39\", \"level\": \"DEBUG\", \"logger\": \"fairlearn.reductions._exponentiated_gradient.exponentiated_gradient\", \"message\": \"...eps=0.010, B=100.0, nu=0.000001, max_iter=100\", \"module\": \"exponentiated_gradient\", \"function\": \"fit\", \"line\": 263}\n",
      "{\"timestamp\": \"2025-08-19 14:53:39\", \"level\": \"DEBUG\", \"logger\": \"fairlearn.reductions._exponentiated_gradient.exponentiated_gradient\", \"message\": \"...last_iter=6, best_iter=6, best_gap=0.000000, n_oracle_calls=23, n_hs=8\", \"module\": \"exponentiated_gradient\", \"function\": \"fit\", \"line\": 270}\n",
      "{\"timestamp\": \"2025-08-19 14:53:39\", \"level\": \"INFO\", \"logger\": \"fairness_pipeline.executor\", \"message\": \"Completed model_training\", \"module\": \"logging_config\", \"function\": \"log_stage_complete\", \"line\": 228, \"component\": \"executor\", \"stage\": \"model_training\"}\n",
      "{\"timestamp\": \"2025-08-19 14:53:39\", \"level\": \"INFO\", \"logger\": \"fairness_pipeline.executor\", \"message\": \"Completed bias_mitigation\", \"module\": \"logging_config\", \"function\": \"log_stage_complete\", \"line\": 228, \"component\": \"executor\", \"stage\": \"bias_mitigation\"}\n",
      "{\"timestamp\": \"2025-08-19 14:53:39\", \"level\": \"INFO\", \"logger\": \"fairness_pipeline.performance\", \"message\": \"Completed bias_mitigation_training\", \"module\": \"logging_config\", \"function\": \"end_timer\", \"line\": 94, \"component\": \"performance\", \"stage\": \"complete\", \"duration_ms\": 119.6281909942627}\n",
      "{\"timestamp\": \"2025-08-19 14:53:39\", \"level\": \"INFO\", \"logger\": \"fairness_pipeline.performance\", \"message\": \"Started final_evaluation\", \"module\": \"logging_config\", \"function\": \"start_timer\", \"line\": 76, \"component\": \"performance\", \"stage\": \"start\"}\n",
      "{\"timestamp\": \"2025-08-19 14:53:39\", \"level\": \"INFO\", \"logger\": \"fairness_pipeline.executor\", \"message\": \"Starting final_validation\", \"module\": \"logging_config\", \"function\": \"log_stage_start\", \"line\": 220, \"component\": \"executor\", \"stage\": \"final_validation\"}\n",
      "\n",
      "\u001B[1;34mVALIDATION SET REPORT\u001B[0m\n",
      "{\"timestamp\": \"2025-08-19 14:53:39\", \"level\": \"INFO\", \"logger\": \"fairness_pipeline.bias_detector\", \"message\": \"Validation Set Report\", \"module\": \"bias_detector\", \"function\": \"print_report\", \"line\": 111, \"component\": \"bias_detector\"}\n",
      "{\"timestamp\": \"2025-08-19 14:53:39\", \"level\": \"INFO\", \"logger\": \"fairness_pipeline.bias_detector\", \"message\": \"Accuracy: 0.8700\", \"module\": \"bias_detector\", \"function\": \"print_report\", \"line\": 182, \"component\": \"bias_detector\", \"metric_name\": \"accuracy\", \"metric_value\": 0.87}\n",
      "{\"timestamp\": \"2025-08-19 14:53:39\", \"level\": \"INFO\", \"logger\": \"fairness_pipeline.bias_detector\", \"message\": \"Precision: 0.8415\", \"module\": \"bias_detector\", \"function\": \"print_report\", \"line\": 182, \"component\": \"bias_detector\", \"metric_name\": \"precision\", \"metric_value\": 0.8414539007092199}\n",
      "{\"timestamp\": \"2025-08-19 14:53:39\", \"level\": \"INFO\", \"logger\": \"fairness_pipeline.bias_detector\", \"message\": \"Recall: 0.8700\", \"module\": \"bias_detector\", \"function\": \"print_report\", \"line\": 182, \"component\": \"bias_detector\", \"metric_name\": \"recall\", \"metric_value\": 0.87}\n",
      "{\"timestamp\": \"2025-08-19 14:53:39\", \"level\": \"INFO\", \"logger\": \"fairness_pipeline.bias_detector\", \"message\": \"F1_Score: 0.8527\", \"module\": \"bias_detector\", \"function\": \"print_report\", \"line\": 182, \"component\": \"bias_detector\", \"metric_name\": \"f1_score\", \"metric_value\": 0.8526583092253296}\n",
      "\u001B[3m     Performance Metrics      \u001B[0m\n",
      "                              \n",
      " \u001B[1;34m \u001B[0m\u001B[1;34mMetric         \u001B[0m\u001B[1;34m \u001B[0m \u001B[1;34m \u001B[0m\u001B[1;34m   Value\u001B[0m\u001B[1;34m \u001B[0m \n",
      " ──────────────────────────── \n",
      " \u001B[36m \u001B[0m\u001B[36mAccuracy       \u001B[0m\u001B[36m \u001B[0m \u001B[32m \u001B[0m\u001B[32m  0.8700\u001B[0m\u001B[32m \u001B[0m \n",
      " \u001B[36m \u001B[0m\u001B[36mPrecision      \u001B[0m\u001B[36m \u001B[0m \u001B[32m \u001B[0m\u001B[32m  0.8415\u001B[0m\u001B[32m \u001B[0m \n",
      " \u001B[36m \u001B[0m\u001B[36mRecall         \u001B[0m\u001B[36m \u001B[0m \u001B[32m \u001B[0m\u001B[32m  0.8700\u001B[0m\u001B[32m \u001B[0m \n",
      " \u001B[36m \u001B[0m\u001B[36mF1_Score       \u001B[0m\u001B[36m \u001B[0m \u001B[32m \u001B[0m\u001B[32m  0.8527\u001B[0m\u001B[32m \u001B[0m \n",
      "                              \n",
      "{\"timestamp\": \"2025-08-19 14:53:39\", \"level\": \"INFO\", \"logger\": \"fairness_pipeline.bias_detector\", \"message\": \"Demographic Parity Difference: 0.2214 (\\u274c VIOLATION)\", \"module\": \"bias_detector\", \"function\": \"print_report\", \"line\": 230, \"component\": \"bias_detector\", \"metric_name\": \"demographic_parity_difference\", \"metric_value\": 0.22142857142857142}\n",
      "{\"timestamp\": \"2025-08-19 14:53:39\", \"level\": \"INFO\", \"logger\": \"fairness_pipeline.bias_detector\", \"message\": \"Equalized Odds Difference: 1.0000 (\\u274c VIOLATION)\", \"module\": \"bias_detector\", \"function\": \"print_report\", \"line\": 230, \"component\": \"bias_detector\", \"metric_name\": \"equalized_odds_difference\", \"metric_value\": 1.0}\n",
      "\u001B[3m                           Fairness Metrics                            \u001B[0m\n",
      "                                                                       \n",
      " \u001B[1;34m \u001B[0m\u001B[1;34mMetric                       \u001B[0m\u001B[1;34m \u001B[0m \u001B[1;34m \u001B[0m\u001B[1;34m   Value\u001B[0m\u001B[1;34m \u001B[0m \u001B[1;34m \u001B[0m\u001B[1;34m   Status   \u001B[0m\u001B[1;34m \u001B[0m \u001B[1;34m \u001B[0m\u001B[1;34mThreshold\u001B[0m\u001B[1;34m \u001B[0m \n",
      " ───────────────────────────────────────────────────────────────────── \n",
      " \u001B[36m \u001B[0m\u001B[36mDemographic Parity Difference\u001B[0m\u001B[36m \u001B[0m \u001B[35m \u001B[0m\u001B[35m  0.2214\u001B[0m\u001B[35m \u001B[0m \u001B[1m \u001B[0m\u001B[1;31m❌ VIOLATION\u001B[0m\u001B[1m \u001B[0m \u001B[2m \u001B[0m\u001B[2m    ≤ 0.1\u001B[0m\u001B[2m \u001B[0m \n",
      " \u001B[36m \u001B[0m\u001B[36mEqualized Odds Difference    \u001B[0m\u001B[36m \u001B[0m \u001B[35m \u001B[0m\u001B[35m  1.0000\u001B[0m\u001B[35m \u001B[0m \u001B[1m \u001B[0m\u001B[1;31m❌ VIOLATION\u001B[0m\u001B[1m \u001B[0m \u001B[2m \u001B[0m\u001B[2m    ≤ 0.1\u001B[0m\u001B[2m \u001B[0m \n",
      "                                                                       \n",
      "\u001B[3m          Overall Assessment           \u001B[0m\n",
      "                                       \n",
      " \u001B[1;34m \u001B[0m\u001B[1;34mMetric                \u001B[0m\u001B[1;34m \u001B[0m \u001B[1;34m \u001B[0m\u001B[1;34m     Score\u001B[0m\u001B[1;34m \u001B[0m \n",
      " ───────────────────────────────────── \n",
      " \u001B[36m \u001B[0m\u001B[36mOverall Fairness Score\u001B[0m\u001B[36m \u001B[0m \u001B[1;32m \u001B[0m\u001B[1;32m    0.0000\u001B[0m\u001B[1;32m \u001B[0m \n",
      "                                       \n",
      "{\"timestamp\": \"2025-08-19 14:53:39\", \"level\": \"INFO\", \"logger\": \"fairness_pipeline.bias_detector\", \"message\": \"Overall Fairness Score: 0.0000\", \"module\": \"bias_detector\", \"function\": \"print_report\", \"line\": 268, \"component\": \"bias_detector\"}\n",
      "\u001B[31m⚠️  \u001B[0m\u001B[1;31m2\u001B[0m\u001B[31m fairness violations detected\u001B[0m\n",
      "{\"timestamp\": \"2025-08-19 14:53:39\", \"level\": \"WARNING\", \"logger\": \"fairness_pipeline.bias_detector\", \"message\": \"Fairness violations detected: demographic_parity_violation, equalized_odds_violation\", \"module\": \"bias_detector\", \"function\": \"print_report\", \"line\": 286, \"component\": \"bias_detector\"}\n",
      "\n",
      "\n",
      "\u001B[1;34mFINAL TEST SET REPORT\u001B[0m\n",
      "{\"timestamp\": \"2025-08-19 14:53:39\", \"level\": \"INFO\", \"logger\": \"fairness_pipeline.bias_detector\", \"message\": \"Final Test Set Report\", \"module\": \"bias_detector\", \"function\": \"print_report\", \"line\": 111, \"component\": \"bias_detector\"}\n",
      "{\"timestamp\": \"2025-08-19 14:53:39\", \"level\": \"INFO\", \"logger\": \"fairness_pipeline.bias_detector\", \"message\": \"Accuracy: 0.8600\", \"module\": \"bias_detector\", \"function\": \"print_report\", \"line\": 182, \"component\": \"bias_detector\", \"metric_name\": \"accuracy\", \"metric_value\": 0.86}\n",
      "{\"timestamp\": \"2025-08-19 14:53:39\", \"level\": \"INFO\", \"logger\": \"fairness_pipeline.bias_detector\", \"message\": \"Precision: 0.8705\", \"module\": \"bias_detector\", \"function\": \"print_report\", \"line\": 182, \"component\": \"bias_detector\", \"metric_name\": \"precision\", \"metric_value\": 0.8704645686148577}\n",
      "{\"timestamp\": \"2025-08-19 14:53:39\", \"level\": \"INFO\", \"logger\": \"fairness_pipeline.bias_detector\", \"message\": \"Recall: 0.8600\", \"module\": \"bias_detector\", \"function\": \"print_report\", \"line\": 182, \"component\": \"bias_detector\", \"metric_name\": \"recall\", \"metric_value\": 0.86}\n",
      "{\"timestamp\": \"2025-08-19 14:53:39\", \"level\": \"INFO\", \"logger\": \"fairness_pipeline.bias_detector\", \"message\": \"F1_Score: 0.8648\", \"module\": \"bias_detector\", \"function\": \"print_report\", \"line\": 182, \"component\": \"bias_detector\", \"metric_name\": \"f1_score\", \"metric_value\": 0.8648}\n",
      "\u001B[3m     Performance Metrics      \u001B[0m\n",
      "                              \n",
      " \u001B[1;34m \u001B[0m\u001B[1;34mMetric         \u001B[0m\u001B[1;34m \u001B[0m \u001B[1;34m \u001B[0m\u001B[1;34m   Value\u001B[0m\u001B[1;34m \u001B[0m \n",
      " ──────────────────────────── \n",
      " \u001B[36m \u001B[0m\u001B[36mAccuracy       \u001B[0m\u001B[36m \u001B[0m \u001B[32m \u001B[0m\u001B[32m  0.8600\u001B[0m\u001B[32m \u001B[0m \n",
      " \u001B[36m \u001B[0m\u001B[36mPrecision      \u001B[0m\u001B[36m \u001B[0m \u001B[32m \u001B[0m\u001B[32m  0.8705\u001B[0m\u001B[32m \u001B[0m \n",
      " \u001B[36m \u001B[0m\u001B[36mRecall         \u001B[0m\u001B[36m \u001B[0m \u001B[32m \u001B[0m\u001B[32m  0.8600\u001B[0m\u001B[32m \u001B[0m \n",
      " \u001B[36m \u001B[0m\u001B[36mF1_Score       \u001B[0m\u001B[36m \u001B[0m \u001B[32m \u001B[0m\u001B[32m  0.8648\u001B[0m\u001B[32m \u001B[0m \n",
      "                              \n",
      "{\"timestamp\": \"2025-08-19 14:53:39\", \"level\": \"INFO\", \"logger\": \"fairness_pipeline.bias_detector\", \"message\": \"Demographic Parity Difference: 0.1795 (\\u274c VIOLATION)\", \"module\": \"bias_detector\", \"function\": \"print_report\", \"line\": 230, \"component\": \"bias_detector\", \"metric_name\": \"demographic_parity_difference\", \"metric_value\": 0.1794871794871795}\n",
      "{\"timestamp\": \"2025-08-19 14:53:39\", \"level\": \"INFO\", \"logger\": \"fairness_pipeline.bias_detector\", \"message\": \"Equalized Odds Difference: 0.2222 (\\u274c VIOLATION)\", \"module\": \"bias_detector\", \"function\": \"print_report\", \"line\": 230, \"component\": \"bias_detector\", \"metric_name\": \"equalized_odds_difference\", \"metric_value\": 0.2222222222222222}\n",
      "\u001B[3m                           Fairness Metrics                            \u001B[0m\n",
      "                                                                       \n",
      " \u001B[1;34m \u001B[0m\u001B[1;34mMetric                       \u001B[0m\u001B[1;34m \u001B[0m \u001B[1;34m \u001B[0m\u001B[1;34m   Value\u001B[0m\u001B[1;34m \u001B[0m \u001B[1;34m \u001B[0m\u001B[1;34m   Status   \u001B[0m\u001B[1;34m \u001B[0m \u001B[1;34m \u001B[0m\u001B[1;34mThreshold\u001B[0m\u001B[1;34m \u001B[0m \n",
      " ───────────────────────────────────────────────────────────────────── \n",
      " \u001B[36m \u001B[0m\u001B[36mDemographic Parity Difference\u001B[0m\u001B[36m \u001B[0m \u001B[35m \u001B[0m\u001B[35m  0.1795\u001B[0m\u001B[35m \u001B[0m \u001B[1m \u001B[0m\u001B[1;31m❌ VIOLATION\u001B[0m\u001B[1m \u001B[0m \u001B[2m \u001B[0m\u001B[2m    ≤ 0.1\u001B[0m\u001B[2m \u001B[0m \n",
      " \u001B[36m \u001B[0m\u001B[36mEqualized Odds Difference    \u001B[0m\u001B[36m \u001B[0m \u001B[35m \u001B[0m\u001B[35m  0.2222\u001B[0m\u001B[35m \u001B[0m \u001B[1m \u001B[0m\u001B[1;31m❌ VIOLATION\u001B[0m\u001B[1m \u001B[0m \u001B[2m \u001B[0m\u001B[2m    ≤ 0.1\u001B[0m\u001B[2m \u001B[0m \n",
      "                                                                       \n",
      "\u001B[3m          Overall Assessment           \u001B[0m\n",
      "                                       \n",
      " \u001B[1;34m \u001B[0m\u001B[1;34mMetric                \u001B[0m\u001B[1;34m \u001B[0m \u001B[1;34m \u001B[0m\u001B[1;34m     Score\u001B[0m\u001B[1;34m \u001B[0m \n",
      " ───────────────────────────────────── \n",
      " \u001B[36m \u001B[0m\u001B[36mOverall Fairness Score\u001B[0m\u001B[36m \u001B[0m \u001B[1;32m \u001B[0m\u001B[1;32m    0.7778\u001B[0m\u001B[1;32m \u001B[0m \n",
      "                                       \n",
      "{\"timestamp\": \"2025-08-19 14:53:39\", \"level\": \"INFO\", \"logger\": \"fairness_pipeline.bias_detector\", \"message\": \"Overall Fairness Score: 0.7778\", \"module\": \"bias_detector\", \"function\": \"print_report\", \"line\": 268, \"component\": \"bias_detector\"}\n",
      "\u001B[31m⚠️  \u001B[0m\u001B[1;31m2\u001B[0m\u001B[31m fairness violations detected\u001B[0m\n",
      "{\"timestamp\": \"2025-08-19 14:53:39\", \"level\": \"WARNING\", \"logger\": \"fairness_pipeline.bias_detector\", \"message\": \"Fairness violations detected: demographic_parity_violation, equalized_odds_violation\", \"module\": \"bias_detector\", \"function\": \"print_report\", \"line\": 286, \"component\": \"bias_detector\"}\n",
      "\n",
      "{\"timestamp\": \"2025-08-19 14:53:39\", \"level\": \"INFO\", \"logger\": \"fairness_pipeline.executor\", \"message\": \"Starting improvement_comparison\", \"module\": \"logging_config\", \"function\": \"log_stage_start\", \"line\": 220, \"component\": \"executor\", \"stage\": \"improvement_comparison\"}\n",
      "{\"timestamp\": \"2025-08-19 14:53:39\", \"level\": \"INFO\", \"logger\": \"fairness_pipeline.executor\", \"message\": \"Primary metric changed by -0.1434\", \"module\": \"pipeline_executor\", \"function\": \"_evaluate_final_fairness\", \"line\": 602, \"component\": \"evaluation\"}\n",
      "\n",
      "\u001B[1;34mIMPROVEMENT COMPARISON\u001B[0m\n",
      "\u001B[3m                   Performance Metrics Comparison                    \u001B[0m\n",
      "                                                                     \n",
      " \u001B[1;34m \u001B[0m\u001B[1;34mMetric    \u001B[0m\u001B[1;34m \u001B[0m \u001B[1;34m \u001B[0m\u001B[1;34mBaseline\u001B[0m\u001B[1;34m \u001B[0m \u001B[1;34m \u001B[0m\u001B[1;34m   Final\u001B[0m\u001B[1;34m \u001B[0m \u001B[1;34m \u001B[0m\u001B[1;34m         Change\u001B[0m\u001B[1;34m \u001B[0m \u001B[1;34m \u001B[0m\u001B[1;34m   Status   \u001B[0m\u001B[1;34m \u001B[0m \n",
      " ─────────────────────────────────────────────────────────────────── \n",
      " \u001B[36m \u001B[0m\u001B[36mAccuracy  \u001B[0m\u001B[36m \u001B[0m \u001B[33m \u001B[0m\u001B[33m  0.9000\u001B[0m\u001B[33m \u001B[0m \u001B[32m \u001B[0m\u001B[32m  0.8600\u001B[0m\u001B[32m \u001B[0m \u001B[1m \u001B[0m\u001B[1;31m-0.0400 (-4.4%)\u001B[0m\u001B[1m \u001B[0m \u001B[1m \u001B[0m\u001B[1m📉 Decreased\u001B[0m\u001B[1m \u001B[0m \n",
      " \u001B[36m \u001B[0m\u001B[36mPrecision \u001B[0m\u001B[36m \u001B[0m \u001B[33m \u001B[0m\u001B[33m  0.8822\u001B[0m\u001B[33m \u001B[0m \u001B[32m \u001B[0m\u001B[32m  0.8705\u001B[0m\u001B[32m \u001B[0m \u001B[1m \u001B[0m\u001B[1;31m-0.0117 (-1.3%)\u001B[0m\u001B[1m \u001B[0m \u001B[1m \u001B[0m\u001B[1m📉 Decreased\u001B[0m\u001B[1m \u001B[0m \n",
      " \u001B[36m \u001B[0m\u001B[36mRecall    \u001B[0m\u001B[36m \u001B[0m \u001B[33m \u001B[0m\u001B[33m  0.9000\u001B[0m\u001B[33m \u001B[0m \u001B[32m \u001B[0m\u001B[32m  0.8600\u001B[0m\u001B[32m \u001B[0m \u001B[1m \u001B[0m\u001B[1;31m-0.0400 (-4.4%)\u001B[0m\u001B[1m \u001B[0m \u001B[1m \u001B[0m\u001B[1m📉 Decreased\u001B[0m\u001B[1m \u001B[0m \n",
      " \u001B[36m \u001B[0m\u001B[36mF1_Score  \u001B[0m\u001B[36m \u001B[0m \u001B[33m \u001B[0m\u001B[33m  0.8781\u001B[0m\u001B[33m \u001B[0m \u001B[32m \u001B[0m\u001B[32m  0.8648\u001B[0m\u001B[32m \u001B[0m \u001B[1m \u001B[0m\u001B[1;31m-0.0133 (-1.5%)\u001B[0m\u001B[1m \u001B[0m \u001B[1m \u001B[0m\u001B[1m📉 Decreased\u001B[0m\u001B[1m \u001B[0m \n",
      "                                                                     \n",
      "\u001B[3m                               Fairness Metrics Comparison                               \u001B[0m\n",
      "                                                                                         \n",
      " \u001B[1;34m \u001B[0m\u001B[1;34mMetric                        \u001B[0m\u001B[1;34m \u001B[0m \u001B[1;34m \u001B[0m\u001B[1;34mBaseline\u001B[0m\u001B[1;34m \u001B[0m \u001B[1;34m \u001B[0m\u001B[1;34m   Final\u001B[0m\u001B[1;34m \u001B[0m \u001B[1;34m \u001B[0m\u001B[1;34m      Improvement\u001B[0m\u001B[1;34m \u001B[0m \u001B[1;34m \u001B[0m\u001B[1;34m  Status  \u001B[0m\u001B[1;34m \u001B[0m \n",
      " ─────────────────────────────────────────────────────────────────────────────────────── \n",
      " \u001B[36m \u001B[0m\u001B[36m🎯 Demographic Parity         \u001B[0m\u001B[36m \u001B[0m \u001B[33m \u001B[0m\u001B[33m  0.0361\u001B[0m\u001B[33m \u001B[0m \u001B[32m \u001B[0m\u001B[32m  0.1795\u001B[0m\u001B[32m \u001B[0m \u001B[1m \u001B[0m\u001B[1;31m-0.1434 (-397.2%)\u001B[0m\u001B[1m \u001B[0m \u001B[1m \u001B[0m\u001B[1m ❌ Worse \u001B[0m\u001B[1m \u001B[0m \n",
      " \u001B[36m \u001B[0m\u001B[36mDifference (Primary)          \u001B[0m\u001B[36m \u001B[0m \u001B[33m          \u001B[0m \u001B[32m          \u001B[0m \u001B[1m                   \u001B[0m \u001B[1m            \u001B[0m \n",
      " \u001B[36m \u001B[0m\u001B[36mEqualized Odds Difference     \u001B[0m\u001B[36m \u001B[0m \u001B[33m \u001B[0m\u001B[33m  0.3000\u001B[0m\u001B[33m \u001B[0m \u001B[32m \u001B[0m\u001B[32m  0.2222\u001B[0m\u001B[32m \u001B[0m \u001B[1m \u001B[0m\u001B[1m \u001B[0m\u001B[1;32m+0.0778 (+25.9%)\u001B[0m\u001B[1m \u001B[0m \u001B[1m \u001B[0m\u001B[1m✅ Better \u001B[0m\u001B[1m \u001B[0m \n",
      "                                                                                         \n",
      "\u001B[3m                          Summary                           \u001B[0m\n",
      "                                                            \n",
      " \u001B[1;34m \u001B[0m\u001B[1;34mAssessment           \u001B[0m\u001B[1;34m \u001B[0m \u001B[1;34m \u001B[0m\u001B[1;34mResult                          \u001B[0m\u001B[1;34m \u001B[0m \n",
      " ────────────────────────────────────────────────────────── \n",
      " \u001B[36m \u001B[0m\u001B[36mPrimary Fairness Goal\u001B[0m\u001B[36m \u001B[0m \u001B[1m \u001B[0m\u001B[1;31m❌ Not achieved (-0.1434 change)\u001B[0m\u001B[1m \u001B[0m \n",
      " \u001B[36m \u001B[0m\u001B[36mFairness Threshold   \u001B[0m\u001B[36m \u001B[0m \u001B[1m \u001B[0m\u001B[1;31m❌ Exceeds threshold (>0.1)\u001B[0m\u001B[1m     \u001B[0m\u001B[1m \u001B[0m \n",
      "                                                            \n",
      "\n",
      "{\"timestamp\": \"2025-08-19 14:53:39\", \"level\": \"INFO\", \"logger\": \"fairness_pipeline.performance\", \"message\": \"Completed final_evaluation\", \"module\": \"logging_config\", \"function\": \"end_timer\", \"line\": 94, \"component\": \"performance\", \"stage\": \"complete\", \"duration_ms\": 14.678001403808594}\n",
      "{\"timestamp\": \"2025-08-19 14:53:39\", \"level\": \"INFO\", \"logger\": \"fairness_pipeline.performance\", \"message\": \"Started mlflow_logging\", \"module\": \"logging_config\", \"function\": \"start_timer\", \"line\": 76, \"component\": \"performance\", \"stage\": \"start\"}\n",
      "{\"timestamp\": \"2025-08-19 14:53:39\", \"level\": \"INFO\", \"logger\": \"fairness_pipeline.executor\", \"message\": \"Starting mlflow_logging\", \"module\": \"logging_config\", \"function\": \"log_stage_start\", \"line\": 220, \"component\": \"executor\", \"stage\": \"mlflow_logging\"}\n",
      "{\"timestamp\": \"2025-08-19 14:53:39\", \"level\": \"DEBUG\", \"logger\": \"urllib3.connectionpool\", \"message\": \"https://api.mlflow-telemetry.io:443 \\\"POST /log HTTP/1.1\\\" 200 30\", \"module\": \"connectionpool\", \"function\": \"_make_request\", \"line\": 544}\n",
      "{\"timestamp\": \"2025-08-19 14:53:41\", \"level\": \"DEBUG\", \"logger\": \"git.util\", \"message\": \"sys.platform='darwin', git_executable='git'\", \"module\": \"util\", \"function\": \"is_cygwin_git\", \"line\": 494}\n",
      "{\"timestamp\": \"2025-08-19 14:53:41\", \"level\": \"DEBUG\", \"logger\": \"git.cmd\", \"message\": \"Popen(['git', 'check-ignore', '/Users/vytautasbunevicius/fairness-pipeline-toolkit'], cwd=/Users/vytautasbunevicius/fairness-pipeline-toolkit, stdin=None, shell=False, universal_newlines=False)\", \"module\": \"cmd\", \"function\": \"execute\", \"line\": 1270}\n",
      "{\"timestamp\": \"2025-08-19 14:53:41\", \"level\": \"DEBUG\", \"logger\": \"git.cmd\", \"message\": \"Popen(['git', 'cat-file', '--batch-check'], cwd=/Users/vytautasbunevicius/fairness-pipeline-toolkit, stdin=<valid stream>, shell=False, universal_newlines=False)\", \"module\": \"cmd\", \"function\": \"execute\", \"line\": 1270}\n",
      "{\"timestamp\": \"2025-08-19 14:53:41\", \"level\": \"DEBUG\", \"logger\": \"git.util\", \"message\": \"sys.platform='darwin', git_executable='git'\", \"module\": \"util\", \"function\": \"is_cygwin_git\", \"line\": 494}\n",
      "{\"timestamp\": \"2025-08-19 14:53:41\", \"level\": \"DEBUG\", \"logger\": \"git.util\", \"message\": \"sys.platform='darwin', git_executable='git'\", \"module\": \"util\", \"function\": \"is_cygwin_git\", \"line\": 494}\n",
      "{\"timestamp\": \"2025-08-19 14:53:41\", \"level\": \"INFO\", \"logger\": \"fairness_pipeline.executor\", \"message\": \"\\u2705 Model logged with signature and metadata\", \"module\": \"pipeline_executor\", \"function\": \"_log_model_with_signature\", \"line\": 965, \"component\": \"mlflow\"}\n",
      "{\"timestamp\": \"2025-08-19 14:53:41\", \"level\": \"WARNING\", \"logger\": \"fairness_pipeline.executor\", \"message\": \"Failed to log transformer details: float() argument must be a string or a real number, not 'dict'\", \"module\": \"logging_config\", \"function\": \"log_warning\", \"line\": 236, \"component\": \"executor\"}\n",
      "{\"timestamp\": \"2025-08-19 14:53:41\", \"level\": \"INFO\", \"logger\": \"fairness_pipeline.performance\", \"message\": \"Completed mlflow_logging\", \"module\": \"logging_config\", \"function\": \"end_timer\", \"line\": 94, \"component\": \"performance\", \"stage\": \"complete\", \"duration_ms\": 2211.3547325134277}\n",
      "{\"timestamp\": \"2025-08-19 14:53:41\", \"level\": \"INFO\", \"logger\": \"fairness_pipeline.performance\", \"message\": \"Completed full_pipeline\", \"module\": \"logging_config\", \"function\": \"end_timer\", \"line\": 94, \"component\": \"performance\", \"stage\": \"complete\", \"duration_ms\": 2767.994165420532}\n",
      "{\"timestamp\": \"2025-08-19 14:53:41\", \"level\": \"INFO\", \"logger\": \"fairness_pipeline.executor\", \"message\": \"Completed pipeline_execution\", \"module\": \"logging_config\", \"function\": \"log_stage_complete\", \"line\": 228, \"component\": \"executor\", \"stage\": \"pipeline_execution\"}\n",
      "{\"timestamp\": \"2025-08-19 14:53:41\", \"level\": \"INFO\", \"logger\": \"fairness_pipeline\", \"message\": \"\\u2713 Pipeline execution completed successfully\", \"module\": \"run_pipeline\", \"function\": \"main\", \"line\": 46}\n",
      "\n"
     ]
    },
    {
     "data": {
      "text/plain": [
       "<IPython.core.display.Markdown object>"
      ],
      "text/markdown": "**stderr (if any):**"
     },
     "metadata": {},
     "output_type": "display_data"
    },
    {
     "name": "stdout",
     "output_type": "stream",
     "text": [
      "2025/08/19 14:53:39 WARNING mlflow.models.model: `artifact_path` is deprecated. Please use `name` instead.\n",
      "2025/08/19 14:53:41 WARNING mlflow.utils.environment: Failed to resolve installed pip version. ``pip`` will be added to conda.yaml environment spec without a version specifier.\n",
      "2025/08/19 14:53:41 WARNING mlflow.models.model: Failed to validate serving input example {\n",
      "  \"dataframe_split\": {\n",
      "    \"columns\": [\n",
      "      \"a.... Alternatively, you can avoid passing input example and pass model signature instead when logging the model. To ensure the input example is valid prior to serving, please try calling `mlflow.models.validate_serving_input` on the model uri and serving input example. A serving input example can be generated from model input example using `mlflow.models.convert_input_example_to_serving_input` function.\n",
      "Got error: \"None of [Index(['race', 'sex'], dtype='object')] are in the [columns]\"\n",
      "Successfully registered model 'fairness_pipeline_20250819_145338_model'.\n",
      "Created version '1' of model 'fairness_pipeline_20250819_145338_model'.\n",
      "\n"
     ]
    },
    {
     "data": {
      "text/plain": [
       "<IPython.core.display.Markdown object>"
      ],
      "text/markdown": "**Analysis: Why fairness metrics got worse**"
     },
     "metadata": {},
     "output_type": "display_data"
    },
    {
     "data": {
      "text/plain": [
       "<IPython.core.display.Markdown object>"
      ],
      "text/markdown": "\n**Root causes:**\n1. **repair_level: 0.8** → Only 80% bias correction applied\n2. **Intersectional bias** → race × gender combinations create complex patterns\n3. **Small sample size** → 1000 samples create high variance in group statistics\n\n**Quick fix:** Set `repair_level: 1.0` in config.yml for full bias correction.\n            "
     },
     "metadata": {},
     "output_type": "display_data"
    }
   ],
   "execution_count": 10
  },
  {
   "cell_type": "markdown",
   "id": "2bed880a44cbb94d",
   "metadata": {},
   "source": [
    "## Organizational Impact and Scalability\n",
    "\n",
    "**For Data Science Teams**\n",
    "- Consistency, efficiency, reliability, reproducibility\n",
    "\n",
    "**For Management**\n",
    "- Standardization, compliance, scalability, quality assurance\n",
    "\n",
    "**For the Organization**\n",
    "- Risk reduction, competitive advantage, cultural change, future-proofing\n",
    "\n",
    "**Deployment Strategy**\n",
    "- Phase 1: Pilot teams → validation and refinement\n",
    "- Phase 2: Organization-wide rollout → templates, training, infra integration\n",
    "- Phase 3: Continuous improvement → monitor metrics, update algorithms, adopt new research\n"
   ]
  },
  {
   "cell_type": "markdown",
   "id": "bbba3520b684b981",
   "metadata": {},
   "source": [
    "## How This Addresses the Integration Challenge\n",
    "\n",
    "- **Before:** Separate bias detection, data transformation, and fair training modules\n",
    "- **After:** A unified pipeline that coordinates all three automatically\n",
    "\n",
    "**Approach**\n",
    "1. Central configuration (`config.yml`)\n",
    "2. Pipeline orchestrator (`run_pipeline.py`) via `PipelineExecutor`\n",
    "3. MLflow experiment tracking for reproducibility and comparison\n",
    "\n",
    "**Why It Scales**\n",
    "- Consistency, reproducibility, traceability, flexibility\n"
   ]
  },
  {
   "cell_type": "markdown",
   "id": "30d050eaf57cb714",
   "metadata": {},
   "source": [
    "## Key Insights and Lessons Learned\n",
    "\n",
    "**Technical**\n",
    "- Integration requires clear interfaces and validations across steps\n",
    "- Configuration-over-code enables wider stakeholder participation\n",
    "- Early investment in experiment infrastructure compounds value\n",
    "\n",
    "**Business**\n",
    "- Balance rigor with usability\n",
    "- Standardization enables cultural change beyond pilots\n",
    "- Adaptable across industries with domain-specific constraints\n"
   ]
  }
 ],
 "metadata": {
  "kernelspec": {
   "display_name": "Python 3 (ipykernel)",
   "language": "python",
   "name": "python3"
  }
 },
 "nbformat": 4,
 "nbformat_minor": 5
}
